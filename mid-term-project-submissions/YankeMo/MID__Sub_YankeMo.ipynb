{
  "nbformat": 4,
  "nbformat_minor": 0,
  "metadata": {
    "colab": {
      "provenance": [],
      "authorship_tag": "ABX9TyP2bStG5givgdrLODS2UgsQ",
      "include_colab_link": true
    },
    "kernelspec": {
      "name": "python3",
      "display_name": "Python 3"
    },
    "language_info": {
      "name": "python"
    }
  },
  "cells": [
    {
      "cell_type": "markdown",
      "metadata": {
        "id": "view-in-github",
        "colab_type": "text"
      },
      "source": [
        "<a href=\"https://colab.research.google.com/github/moyanke/inf1340-programmingfordatascience-fa22/blob/main/MID__Sub_YankeMo.ipynb\" target=\"_parent\"><img src=\"https://colab.research.google.com/assets/colab-badge.svg\" alt=\"Open In Colab\"/></a>"
      ]
    },
    {
      "cell_type": "code",
      "execution_count": 1,
      "metadata": {
        "id": "KWf5445Ez39o"
      },
      "outputs": [],
      "source": [
        "import pandas as pd\n",
        "import numpy as np\n",
        "import matplotlib.pyplot as plt\n",
        "import seaborn as sns\n",
        "import plotly\n",
        "df = pd.read_excel('/content/UN_MigrantStockTotal_2015.xlsx')\n"
      ]
    },
    {
      "cell_type": "code",
      "source": [
        "table_01 = pd.read_excel('/content/UN_MigrantStockTotal_2015.xlsx', sheet_name='Table 1')\n",
        "table_02= pd.read_excel('/content/UN_MigrantStockTotal_2015.xlsx', sheet_name='Table 2')\n",
        "table_03= pd.read_excel('/content/UN_MigrantStockTotal_2015.xlsx', sheet_name='Table 3')\n",
        "table_04= pd.read_excel('/content/UN_MigrantStockTotal_2015.xlsx', sheet_name='Table 4')\n",
        "table_05= pd.read_excel('/content/UN_MigrantStockTotal_2015.xlsx', sheet_name='Table 5')\n",
        "table_06= pd.read_excel('/content/UN_MigrantStockTotal_2015.xlsx', sheet_name='Table 6')\n",
        "table_annex= pd.read_excel('/content/UN_MigrantStockTotal_2015.xlsx', sheet_name='ANNEX')\n",
        "table_notes= pd.read_excel('/content/UN_MigrantStockTotal_2015.xlsx', sheet_name='NOTES')\n"
      ],
      "metadata": {
        "id": "OfUDApV4Mp4h"
      },
      "execution_count": 2,
      "outputs": []
    },
    {
      "cell_type": "markdown",
      "source": [
        "##############Table_01#############"
      ],
      "metadata": {
        "id": "Gkv36a5vFbX7"
      }
    },
    {
      "cell_type": "code",
      "source": [
        "table_01"
      ],
      "metadata": {
        "id": "kDDAUFkqSdv-"
      },
      "execution_count": null,
      "outputs": []
    },
    {
      "cell_type": "code",
      "source": [
        "table_1_1 = table_01.drop(table_01.index[0:15])\n",
        "table_1_1 #Drop 0-15 rows"
      ],
      "metadata": {
        "id": "CItHolXvS_yu"
      },
      "execution_count": null,
      "outputs": []
    },
    {
      "cell_type": "code",
      "source": [
        "table_1_1.columns"
      ],
      "metadata": {
        "id": "GCByV87xc3T3"
      },
      "execution_count": null,
      "outputs": []
    },
    {
      "cell_type": "code",
      "source": [
        "table_1_1.columns=['Order','Name of Country','Notes','Country Code','Type of Data(a)','1990 Migrant Stock Both Sex',\n",
        "                  '1995 Migrant Stock Both Sex','2000 Migrant Stock Both Sex','2005 Migrant Stock Both Sex',\n",
        "                  '2010 Migrant Stock Both Sex','2015 Migrant Stock Both Sex','1990 Migrant Stock Male',\n",
        "                  '1995 Migrant Stock Male','2000 Migrant Stock Male','2005 Migrant Stock Male','2010 Migrant Stock Male',\n",
        "                  '2015 Migrant Stock Male','1990 Migrant Stock Female','1995 Migrant Stock Female','2000 Migrant Stock Female',\n",
        "                  '2005 Migrant Stock Female','2010 Migrant Stock Female',\n",
        "                  '2015 Migrant Stock Female']"
      ],
      "metadata": {
        "id": "v1DSAlW0HiXQ"
      },
      "execution_count": 20,
      "outputs": []
    },
    {
      "cell_type": "code",
      "source": [
        "table_1_1 #rename the columns"
      ],
      "metadata": {
        "id": "Ji6saZ27J8Ez"
      },
      "execution_count": null,
      "outputs": []
    },
    {
      "cell_type": "code",
      "source": [
        "tidy_table_01 = table_1_1.melt(id_vars=[\"Order\",\"Name of Country\",\"Notes\",\"Country Code\",\"Type of Data(a)\"],var_name=\"Year\",value_name=\"Migrant Stock\")"
      ],
      "metadata": {
        "id": "T_cy6x7g-NkZ"
      },
      "execution_count": 23,
      "outputs": []
    },
    {
      "cell_type": "code",
      "source": [
        "tidy_table_01"
      ],
      "metadata": {
        "id": "3bCbsj2JdGrX"
      },
      "execution_count": null,
      "outputs": []
    },
    {
      "cell_type": "code",
      "source": [
        "tidy_table_01=(tidy_table_01.assign(year = lambda x: x.Year.str[:4].astype(str), Gender = lambda x: x.Year.str[18:].astype(str)).drop(\"Year\",axis=1))\n",
        "tidy_table_01.sort_values(by ='Order').reset_index().drop(columns = 'index') #Separate the Year cloumns into year, gemder, migrant stock"
      ],
      "metadata": {
        "id": "nN-gw1rIdMdk"
      },
      "execution_count": null,
      "outputs": []
    },
    {
      "cell_type": "code",
      "source": [
        "#Split the data in different table, start fromn row 1590, tidy_table_1_Both_sexes = Migrant Stock for Both Sexes\n",
        "split_point = 1590\n",
        "print(split_point)\n",
        "tidy_table_01_Both_sexes = tidy_table_01.iloc[:split_point]\n",
        "tidy_table_01_Both_sexes"
      ],
      "metadata": {
        "id": "_0YcebIqfRHo"
      },
      "execution_count": null,
      "outputs": []
    },
    {
      "cell_type": "code",
      "source": [
        "tidy_table_01_Both_sexes.columns=['Order','Name of Country','Notes','Country Code','Type of Data(a)',\"Migrant Stock for Both Sexes\",\"year\",\"Gender\"]\n",
        "tidy_table_1_Both_sexes = tidy_table_01_Both_sexes.drop(\"Gender\",axis=1)\n",
        "tidy_table_1_Both_sexes"
      ],
      "metadata": {
        "id": "WyT3U9RgUJVx"
      },
      "execution_count": null,
      "outputs": []
    },
    {
      "cell_type": "code",
      "source": [
        "table1_Bothsexes = tidy_table_1_Both_sexes.reset_index().groupby(['Order','Name of Country','Country Code','year'])['Migrant Stock for Both Sexes'].aggregate('first').unstack()\n",
        "table1_Bothsexes"
      ],
      "metadata": {
        "id": "uExZPfJdVDw_"
      },
      "execution_count": null,
      "outputs": []
    },
    {
      "cell_type": "code",
      "source": [
        "table01_Continent_or_region_BothSexes = table1_Bothsexes.loc[[1,2,3,4,5,6,7,8,29,39,47,53,71,72,78,86,98,106,127,128,139,153,170,180,181,108,217,232,238,239,242,248,256], :]\n",
        "table01_Continent_or_region_BothSexes"
      ],
      "metadata": {
        "id": "S0eSYXSF06ce"
      },
      "execution_count": null,
      "outputs": []
    },
    {
      "cell_type": "code",
      "source": [
        "clean_table1_Bothsexes = table1_Bothsexes.drop([1,2,3,4,5,6,7,8,29,39,47,53,71,72,78,86,98,106,127,128,139,153,170,180,181,108,217,232,238,239,242,248,256], inplace=False)\n",
        "clean_table1_Bothsexes"
      ],
      "metadata": {
        "id": "y0VitdGLLbf1"
      },
      "execution_count": null,
      "outputs": []
    },
    {
      "cell_type": "code",
      "source": [
        "missing_val = [\"..\"]\n",
        "missing = clean_table1_Bothsexes.isin(missing_val)\n",
        "clean_table1_Bothsexes.mask(missing, \"Missing_value\").head(50)"
      ],
      "metadata": {
        "id": "_hTep6wy9Me_"
      },
      "execution_count": null,
      "outputs": []
    },
    {
      "cell_type": "code",
      "source": [
        "#Split the data in different table, start fromn row 1590, tidy_table_1_male = Migrant Stock for Male\n",
        "split_point = 1590\n",
        "split_male_female = 3180\n",
        "tidy_table_01_Male = tidy_table_01.iloc[split_point:split_male_female]\n",
        "tidy_table_01_Male"
      ],
      "metadata": {
        "id": "QNVLJT64aRpq"
      },
      "execution_count": null,
      "outputs": []
    },
    {
      "cell_type": "code",
      "source": [
        "tidy_table_01_Male.columns=['Order','Name of Country','Notes','Country Code','Type of Data(a)',\"Migrant Stock for Male\",\"year\",\"Gender\"]\n",
        "tidy_table_1_Male = tidy_table_01_Male.drop(\"Gender\",axis=1)\n",
        "tidy_table_1_Male"
      ],
      "metadata": {
        "id": "y4HyXn-Cb4Ij"
      },
      "execution_count": null,
      "outputs": []
    },
    {
      "cell_type": "code",
      "source": [
        "table1_male = tidy_table_1_Male.reset_index().groupby(['Order','Name of Country','Country Code','year'])['Migrant Stock for Male'].aggregate('first').unstack()\n",
        "table1_male"
      ],
      "metadata": {
        "id": "4CfZxkmehDTh"
      },
      "execution_count": null,
      "outputs": []
    },
    {
      "cell_type": "code",
      "source": [
        "table01_Continent_or_region_male = table1_male.loc[[1,2,3,4,5,6,7,8,29,39,47,53,71,72,78,86,98,106,127,128,139,153,170,180,181,108,217,232,238,239,242,248,256], :]\n",
        "table01_Continent_or_region_male"
      ],
      "metadata": {
        "id": "Qie20GV42GlQ"
      },
      "execution_count": null,
      "outputs": []
    },
    {
      "cell_type": "code",
      "source": [
        "clean_table1_male = table1_male.drop([1,2,3,4,5,6,7,8,29,39,47,53,71,72,78,86,98,106,127,128,139,153,170,180,181,108,217,232,238,239,242,248,256], inplace=False)\n",
        "clean_table1_male"
      ],
      "metadata": {
        "id": "oc11EEgKMGVS"
      },
      "execution_count": null,
      "outputs": []
    },
    {
      "cell_type": "code",
      "source": [
        "missing_val = [\"..\"]\n",
        "missing = clean_table1_male.isin(missing_val)\n",
        "clean_table1_male.mask(missing, \"Missing_value\").head(50)"
      ],
      "metadata": {
        "id": "gUHMVfqO-dE_"
      },
      "execution_count": null,
      "outputs": []
    },
    {
      "cell_type": "code",
      "source": [
        "#Split the data in different table, start fromn row 3180, tidy_table_1_female = Migrant Stock for female\n",
        "split_male_female = 3180\n",
        "tidy_table_1_female = tidy_table_01.iloc[split_male_female:]\n",
        "tidy_table_1_female"
      ],
      "metadata": {
        "id": "rKp_NkdLhY0s"
      },
      "execution_count": null,
      "outputs": []
    },
    {
      "cell_type": "code",
      "source": [
        "tidy_table_1_female.columns=['Order','Name of Country','Notes','Country Code','Type of Data(a)',\"Migrant Stock for female\",\"year\",\"Gender\"]\n",
        "tidy_table_1_female = tidy_table_1_female.drop(\"Gender\",axis=1)\n",
        "tidy_table_1_female"
      ],
      "metadata": {
        "id": "eoSlnKESj5Xd"
      },
      "execution_count": null,
      "outputs": []
    },
    {
      "cell_type": "code",
      "source": [
        "table1_female = tidy_table_1_female.reset_index().groupby(['Order','Name of Country','Country Code','year'])['Migrant Stock for female'].aggregate('first').unstack()\n",
        "table1_female"
      ],
      "metadata": {
        "id": "f84H-wFCkaVB"
      },
      "execution_count": null,
      "outputs": []
    },
    {
      "cell_type": "code",
      "source": [
        "table01_Continent_or_region_female = table1_female.loc[[1,2,3,4,5,6,7,8,29,39,47,53,71,72,78,86,98,106,127,128,139,153,170,180,181,108,217,232,238,239,242,248,256], :]\n",
        "table01_Continent_or_region_female"
      ],
      "metadata": {
        "id": "GYQFltai2Nxj"
      },
      "execution_count": null,
      "outputs": []
    },
    {
      "cell_type": "code",
      "source": [
        "clean_table1_female = table1_female.drop([1,2,3,4,5,6,7,8,29,39,47,53,71,72,78,86,98,106,127,128,139,153,170,180,181,108,217,232,238,239,242,248,256], inplace=False)\n",
        "clean_table1_female"
      ],
      "metadata": {
        "id": "nr29wUMnMiD5"
      },
      "execution_count": null,
      "outputs": []
    },
    {
      "cell_type": "code",
      "source": [
        "missing_val = [\"..\"]\n",
        "missing = clean_table1_female.isin(missing_val)\n",
        "clean_table1_female.mask(missing, \"Missing_value\").head(50)"
      ],
      "metadata": {
        "id": "wIkBd67--jtK"
      },
      "execution_count": null,
      "outputs": []
    },
    {
      "cell_type": "markdown",
      "source": [
        "##########Table_02##########"
      ],
      "metadata": {
        "id": "4s3a1dgBTCDw"
      }
    },
    {
      "cell_type": "code",
      "source": [
        "table_02"
      ],
      "metadata": {
        "id": "hgH4IzPr8ihu"
      },
      "execution_count": null,
      "outputs": []
    },
    {
      "cell_type": "code",
      "source": [
        "table_2_1 = table_02.drop(table_02.index[0:15])\n",
        "table_2_1 #Drop 0-15 rows"
      ],
      "metadata": {
        "id": "jtz3Uq25Rzji"
      },
      "execution_count": null,
      "outputs": []
    },
    {
      "cell_type": "code",
      "source": [
        "table_2_1.columns"
      ],
      "metadata": {
        "id": "NEl2GdAER5pG",
        "colab": {
          "base_uri": "https://localhost:8080/"
        },
        "outputId": "e364041f-0f0f-400b-cb04-12bcab63d41d"
      },
      "execution_count": null,
      "outputs": [
        {
          "output_type": "execute_result",
          "data": {
            "text/plain": [
              "Index(['Unnamed: 0', 'Unnamed: 1', 'Unnamed: 2', 'Unnamed: 3', 'Unnamed: 4',\n",
              "       'Unnamed: 5', 'Unnamed: 6', 'Unnamed: 7', 'Unnamed: 8', 'Unnamed: 9',\n",
              "       'Unnamed: 10', 'Unnamed: 11', 'Unnamed: 12', 'Unnamed: 13',\n",
              "       'Unnamed: 14', 'Unnamed: 15', 'Unnamed: 16', 'Unnamed: 17',\n",
              "       'Unnamed: 18', 'Unnamed: 19', 'Unnamed: 20', 'Unnamed: 21'],\n",
              "      dtype='object')"
            ]
          },
          "metadata": {},
          "execution_count": 295
        }
      ]
    },
    {
      "cell_type": "code",
      "source": [
        "table_2_1.columns=['Order','Name of Country','Notes','Country Code','1990 Total Population Both Sex',\n",
        "                  '1995 Total Population Both Sex','2000 Total Population Both Sex','2005 Total Population Both Sex',\n",
        "                  '2010 Total Population Both Sex','2015 Total Population Both Sex','1990 Total Population Male',\n",
        "                  '1995 Total Population Male','2000 Total Population Male','2005 Total Populatio Male','2010 Total Population Male',\n",
        "                  '2015 Total Population Male','1990 Total Population Female','1995 Total Population Female','2000 Total Population Female',\n",
        "                  '2005 Total Population Female','2010 Total Population Female',\n",
        "                  '2015 Total Population Female']"
      ],
      "metadata": {
        "id": "PZoVnESUSDya"
      },
      "execution_count": 55,
      "outputs": []
    },
    {
      "cell_type": "code",
      "source": [
        "table_2_1"
      ],
      "metadata": {
        "id": "GvufzJfHU9tJ"
      },
      "execution_count": null,
      "outputs": []
    },
    {
      "cell_type": "code",
      "source": [
        "tidy_table_02 = table_2_1.melt(id_vars=[\"Order\",\"Name of Country\",\"Notes\",\"Country Code\"],var_name=\"Year\",value_name=\"Total Population\")"
      ],
      "metadata": {
        "id": "tDHCrIsEVNgS"
      },
      "execution_count": 56,
      "outputs": []
    },
    {
      "cell_type": "code",
      "source": [
        "tidy_table_02"
      ],
      "metadata": {
        "id": "lankDSehVcac"
      },
      "execution_count": null,
      "outputs": []
    },
    {
      "cell_type": "code",
      "source": [
        "tidy_table_02=(tidy_table_02.assign(year = lambda x: x.Year.str[:4].astype(str), Gender = lambda x: x.Year.str[22:].astype(str)).drop(\"Year\",axis=1))\n",
        "tidy_table_02.sort_values(by ='Order').reset_index().drop(columns = 'index') #Separate the Year cloumns into year, gemder, migrant stock #Separate the Year cloumns into year, gemder, total population"
      ],
      "metadata": {
        "id": "aFDJTxuQU3MI"
      },
      "execution_count": null,
      "outputs": []
    },
    {
      "cell_type": "code",
      "source": [
        "#Split the data in different table, start fromn row 1590, tidy_table_2_Both_sexes = Migrant Stock for Both Sexes\n",
        "split_point = 1590\n",
        "print(split_point)\n",
        "tidy_table_02_Both_sexes = tidy_table_02.iloc[:split_point]\n",
        "tidy_table_02_Both_sexes"
      ],
      "metadata": {
        "id": "DEx-Hq6Tle9B"
      },
      "execution_count": null,
      "outputs": []
    },
    {
      "cell_type": "code",
      "source": [
        "tidy_table_02_Both_sexes.columns=['Order','Name of Country','Notes','Country Code','Total Population for Both Sexes in Thousands','year','Gender']\n",
        "tidy_table_2_Both_sexes = tidy_table_02_Both_sexes.drop(\"Gender\",axis=1)\n",
        "tidy_table_2_Both_sexes\n"
      ],
      "metadata": {
        "id": "s5v-df7jmVqx"
      },
      "execution_count": null,
      "outputs": []
    },
    {
      "cell_type": "code",
      "source": [
        "table2_Bothsexes = tidy_table_2_Both_sexes.reset_index().groupby(['Order','Name of Country','Country Code','year'])['Total Population for Both Sexes in Thousands'].aggregate('first').unstack()"
      ],
      "metadata": {
        "id": "FZNhHjCenq5B"
      },
      "execution_count": 60,
      "outputs": []
    },
    {
      "cell_type": "code",
      "source": [
        "table02_Continent_or_region_BothSexes = table2_Bothsexes.loc[[1,2,3,4,5,6,7,8,29,39,47,53,71,72,78,86,98,106,127,128,139,153,170,180,181,108,217,232,238,239,242,248,256], :]\n",
        "table02_Continent_or_region_BothSexes"
      ],
      "metadata": {
        "id": "_94MZMRK27WU"
      },
      "execution_count": null,
      "outputs": []
    },
    {
      "cell_type": "code",
      "source": [
        "clean_table2_Bothsexes = table2_Bothsexes.drop([1,2,3,4,5,6,7,8,29,39,47,53,71,72,78,86,98,106,127,128,139,153,170,180,181,108,217,232,238,239,242,248,256], inplace=False)\n",
        "clean_table2_Bothsexes\n"
      ],
      "metadata": {
        "id": "zD6kKiMeNKpA"
      },
      "execution_count": null,
      "outputs": []
    },
    {
      "cell_type": "code",
      "source": [
        "missing_val = [\"..\"]\n",
        "missing = clean_table2_Bothsexes.isin(missing_val)\n",
        "clean_table2_Bothsexes.mask(missing, \"Missing_value\").head(50)"
      ],
      "metadata": {
        "id": "YxEByqNC_HRp"
      },
      "execution_count": null,
      "outputs": []
    },
    {
      "cell_type": "code",
      "source": [
        "#Split the data in different table, start fromn row 1590, tidy_table_2_male = Migrant Stock for Male\n",
        "split_point = 1590\n",
        "split_male_female = 3180\n",
        "tidy_table_02_Male = tidy_table_02.iloc[split_point:split_male_female]\n",
        "tidy_table_02_Male\n"
      ],
      "metadata": {
        "id": "ULr6xiApn5ga"
      },
      "execution_count": null,
      "outputs": []
    },
    {
      "cell_type": "code",
      "source": [
        "tidy_table_02_Male.columns=['Order','Name of Country','Notes','Country Code',\"Total Population for Male in Thousands\",\"year\",\"Gender\"]\n",
        "tidy_table_2_Male = tidy_table_02_Male.drop(\"Gender\",axis=1)\n",
        "tidy_table_2_Male\n"
      ],
      "metadata": {
        "id": "RNEcV_-xoVxJ"
      },
      "execution_count": null,
      "outputs": []
    },
    {
      "cell_type": "code",
      "source": [
        "table2_male=tidy_table_2_Male.reset_index().groupby(['Order','Name of Country','Country Code','year'])['Total Population for Male in Thousands'].aggregate('first').unstack()"
      ],
      "metadata": {
        "id": "67oafuFdolzI"
      },
      "execution_count": 66,
      "outputs": []
    },
    {
      "cell_type": "code",
      "source": [
        "table02_Continent_or_region_male = table2_male.loc[[1,2,3,4,5,6,7,8,29,39,47,53,71,72,78,86,98,106,127,128,139,153,170,180,181,108,217,232,238,239,242,248,256], :]\n",
        "table02_Continent_or_region_male"
      ],
      "metadata": {
        "id": "_4is8Y025Mp0"
      },
      "execution_count": null,
      "outputs": []
    },
    {
      "cell_type": "code",
      "source": [
        "clean_table2_male = table2_male.drop([1,2,3,4,5,6,7,8,29,39,47,53,71,72,78,86,98,106,127,128,139,153,170,180,181,108,217,232,238,239,242,248,256], inplace=False)\n",
        "clean_table2_male\n"
      ],
      "metadata": {
        "id": "2ufQ7IwCNUQ8"
      },
      "execution_count": null,
      "outputs": []
    },
    {
      "cell_type": "code",
      "source": [
        "missing_val = [\"..\"]\n",
        "missing = clean_table2_male.isin(missing_val)\n",
        "clean_table2_male.mask(missing, \"Missing_value\").head(50)\n"
      ],
      "metadata": {
        "id": "iRs-L2S4_aMR"
      },
      "execution_count": null,
      "outputs": []
    },
    {
      "cell_type": "code",
      "source": [
        "#Split the data in different table, start fromn row 3180, tidy_table_2_female = Migrant Stock for female\n",
        "split_male_female = 3180\n",
        "tidy_table_2_female = tidy_table_02.iloc[split_male_female:]\n",
        "tidy_table_2_female"
      ],
      "metadata": {
        "id": "E3ExEVRbpG-2"
      },
      "execution_count": null,
      "outputs": []
    },
    {
      "cell_type": "code",
      "source": [
        "tidy_table_2_female.columns=['Order','Name of Country','Notes','Country Code',\"Total Population for female in Thousands\",\"year\",\"Gender\"]\n",
        "tidy_table_2_female = tidy_table_2_female.drop(\"Gender\",axis=1)\n",
        "tidy_table_2_female\n"
      ],
      "metadata": {
        "id": "7nWycrUiphmX"
      },
      "execution_count": null,
      "outputs": []
    },
    {
      "cell_type": "code",
      "source": [
        "table2_female = tidy_table_2_female.reset_index().groupby(['Order','Name of Country','Country Code','year'])['Total Population for female in Thousands'].aggregate('first').unstack()"
      ],
      "metadata": {
        "id": "P-gEGwB8rIEM"
      },
      "execution_count": 72,
      "outputs": []
    },
    {
      "cell_type": "code",
      "source": [
        "table02_Continent_or_region_female = table2_female.loc[[1,2,3,4,5,6,7,8,29,39,47,53,71,72,78,86,98,106,127,128,139,153,170,180,181,108,217,232,238,239,242,248,256], :]\n",
        "table02_Continent_or_region_female"
      ],
      "metadata": {
        "id": "tCJy8Ktd5r37"
      },
      "execution_count": null,
      "outputs": []
    },
    {
      "cell_type": "code",
      "source": [
        "clean_table2_female = table2_female.drop([1,2,3,4,5,6,7,8,29,39,47,53,71,72,78,86,98,106,127,128,139,153,170,180,181,108,217,232,238,239,242,248,256], inplace=False)\n",
        "clean_table2_female\n"
      ],
      "metadata": {
        "id": "xKVc2vELNaXS"
      },
      "execution_count": null,
      "outputs": []
    },
    {
      "cell_type": "code",
      "source": [
        "\n",
        "missing_val = [\"..\"]\n",
        "missing = clean_table2_female.isin(missing_val)\n",
        "clean_table2_female.mask(missing, \"Missing_value\").head(50)"
      ],
      "metadata": {
        "id": "DOp8Q70t_kYB"
      },
      "execution_count": null,
      "outputs": []
    },
    {
      "cell_type": "code",
      "source": [
        "#write up of what violation you find, five page at least with picture. \n",
        "#use table_01.set_index(\"Name of area\", inpplace = True)把name of area 变成中心指标\n"
      ],
      "metadata": {
        "id": "dKPqBXDtkux-"
      },
      "execution_count": null,
      "outputs": []
    },
    {
      "cell_type": "markdown",
      "source": [
        "##########Table_03##########"
      ],
      "metadata": {
        "id": "st_R0Tc6TYxm"
      }
    },
    {
      "cell_type": "code",
      "source": [
        "table_03"
      ],
      "metadata": {
        "id": "L0aTdtP-TXHS"
      },
      "execution_count": null,
      "outputs": []
    },
    {
      "cell_type": "code",
      "source": [
        "table_3_1 = table_03.drop(table_03.index[0:15])\n",
        "table_3_1 #Drop 0-15 rows"
      ],
      "metadata": {
        "id": "bcihLaaJTjSs"
      },
      "execution_count": null,
      "outputs": []
    },
    {
      "cell_type": "code",
      "source": [
        "table_3_1.columns=['Order','Name of Country','Notes','Country Code','Type of Data(a)','1990 Migrant Stock Percentage for Both Sex',\n",
        "                  '1995 Migrant Stock Percentage for Both Sex','2000 Migrant Stock Percentage for Both Sex','2005 Migrant Stock Percentage for Both Sex',\n",
        "                  '2010 Migrant Stock Percentage for Both Sex','2015 Migrant Stock Percentage for Both Sex','1990 Migrant Stock Percentage for Male',\n",
        "                  '1995 Migrant Stock Percentage for Male','2000 Migrant Stock Percentage for Male','2005 Migrant Stock Percentage for Male','2010 Migrant Stock Percentage for Male',\n",
        "                  '2015 Migrant Stock Percentage for Male','1990 Migrant Stock Percentage for Female','1995 Migrant Stock Percentage for Female','2000 Migrant Stock Percentage for Female',\n",
        "                  '2005 Migrant Stock Percentage for Female','2010 Migrant Stock Percentage for Female',\n",
        "                  '2015 Migrant Stock Percentage for Female']"
      ],
      "metadata": {
        "id": "BHZA20sOZ1HV"
      },
      "execution_count": 77,
      "outputs": []
    },
    {
      "cell_type": "code",
      "source": [
        "table_3_1"
      ],
      "metadata": {
        "id": "BL__6fx0bWyT"
      },
      "execution_count": null,
      "outputs": []
    },
    {
      "cell_type": "code",
      "source": [
        "tidy_table_03 = table_3_1.melt(id_vars=[\"Order\",\"Name of Country\",\"Notes\",\"Country Code\",\"Type of Data(a)\"],var_name=\"Years\",value_name=\"International Migrant Stock as Percentage of Total Population\")"
      ],
      "metadata": {
        "id": "LXiFtcImbdqE"
      },
      "execution_count": 78,
      "outputs": []
    },
    {
      "cell_type": "code",
      "source": [
        "tidy_table_03"
      ],
      "metadata": {
        "id": "YlL1RLwub3M3"
      },
      "execution_count": null,
      "outputs": []
    },
    {
      "cell_type": "code",
      "source": [
        "tidy_table_03=(tidy_table_03.assign(year = lambda x: x.Years.str[:4].astype(str), Gender = lambda x: x.Years.str[33:].astype(str)).drop(\"Years\",axis=1))\n",
        "tidy_table_03.sort_values(by ='Order').reset_index().drop(columns = 'index') #Separate the Year cloumns into year, gemder, migrant stock"
      ],
      "metadata": {
        "id": "m3ddok7lb_oq"
      },
      "execution_count": null,
      "outputs": []
    },
    {
      "cell_type": "code",
      "source": [
        "#Split the data in different table, start fromn row 1590, tidy_table_3_Both_sexes = Migrant Stock for Both Sexes\n",
        "split_point = 1590\n",
        "print(split_point)\n",
        "tidy_table_03_Both_sexes = tidy_table_03.iloc[:split_point]\n",
        "tidy_table_03_Both_sexes\n"
      ],
      "metadata": {
        "id": "Zepf7flRrWMf"
      },
      "execution_count": null,
      "outputs": []
    },
    {
      "cell_type": "code",
      "source": [
        "tidy_table_03_Both_sexes.columns=['Order','Name of Country','Notes','Country Code','Type of Data(a)',\"International Migrant Stock as Percentage of Total Population Both Sexes\",\"year\",\"Gender\"]\n",
        "tidy_table_3_Both_sexes = tidy_table_03_Both_sexes.drop(\"Gender\",axis=1)\n",
        "tidy_table_3_Both_sexes\n"
      ],
      "metadata": {
        "id": "xsTBi61zrkVv"
      },
      "execution_count": null,
      "outputs": []
    },
    {
      "cell_type": "code",
      "source": [
        "table3_Bothsexes=tidy_table_3_Both_sexes.reset_index().groupby(['Order','Name of Country','Country Code','year'])['International Migrant Stock as Percentage of Total Population Both Sexes'].aggregate('first').unstack()\n"
      ],
      "metadata": {
        "id": "SSqMO8Eqs4ge"
      },
      "execution_count": 82,
      "outputs": []
    },
    {
      "cell_type": "code",
      "source": [
        "table03_Continent_or_region_BothSexes = table3_Bothsexes.loc[[1,2,3,4,5,6,7,8,29,39,47,53,71,72,78,86,98,106,127,128,139,153,170,180,181,108,217,232,238,239,242,248,256], :]\n",
        "table03_Continent_or_region_BothSexes"
      ],
      "metadata": {
        "id": "W0lDzxan6GMA"
      },
      "execution_count": null,
      "outputs": []
    },
    {
      "cell_type": "code",
      "source": [
        "clean_table3_Bothsexes = table3_Bothsexes.drop([1,2,3,4,5,6,7,8,29,39,47,53,71,72,78,86,98,106,127,128,139,153,170,180,181,108,217,232,238,239,242,248,256], inplace=False)\n",
        "clean_table3_Bothsexes\n"
      ],
      "metadata": {
        "id": "YrzwmvK_Noci"
      },
      "execution_count": null,
      "outputs": []
    },
    {
      "cell_type": "code",
      "source": [
        "missing_val = [\"..\"]\n",
        "missing = clean_table3_Bothsexes.isin(missing_val)\n",
        "clean_table3_Bothsexes.mask(missing, \"Missing_value\").head(50)"
      ],
      "metadata": {
        "id": "Q8UrlcFh_0nK"
      },
      "execution_count": null,
      "outputs": []
    },
    {
      "cell_type": "code",
      "source": [
        "#Split the data in different table, start fromn row 1590, tidy_table_3_male = Migrant Stock for Male\n",
        "split_point = 1590\n",
        "split_male_female = 3180\n",
        "tidy_table_03_Male = tidy_table_03.iloc[split_point:split_male_female]\n",
        "tidy_table_03_Male\n"
      ],
      "metadata": {
        "id": "-8ow6nrJsMgT"
      },
      "execution_count": null,
      "outputs": []
    },
    {
      "cell_type": "code",
      "source": [
        "tidy_table_03_Male.columns=['Order','Name of Country','Notes','Country Code','Type of Data(a)',\"International Migrant Stock as Percentage of Total Population for Male\",\"year\",\"Gender\"]\n",
        "tidy_table_3_Male = tidy_table_03_Male.drop(\"Gender\",axis=1)\n",
        "tidy_table_3_Male\n"
      ],
      "metadata": {
        "id": "RutVOjFBsky8"
      },
      "execution_count": null,
      "outputs": []
    },
    {
      "cell_type": "code",
      "source": [
        "table3_male=tidy_table_3_Male.reset_index().groupby(['Order','Name of Country','Country Code','year'])['International Migrant Stock as Percentage of Total Population for Male'].aggregate('first').unstack()"
      ],
      "metadata": {
        "id": "g8yBjV0btcny"
      },
      "execution_count": null,
      "outputs": []
    },
    {
      "cell_type": "code",
      "source": [
        "table03_Continent_or_region_male = table3_male.loc[[1,2,3,4,5,6,7,8,29,39,47,53,71,72,78,86,98,106,127,128,139,153,170,180,181,108,217,232,238,239,242,248,256], :]\n",
        "table03_Continent_or_region_male"
      ],
      "metadata": {
        "id": "hU7WsoSf6U4C"
      },
      "execution_count": null,
      "outputs": []
    },
    {
      "cell_type": "code",
      "source": [
        "clean_table3_male = table3_male.drop([1,2,3,4,5,6,7,8,29,39,47,53,71,72,78,86,98,106,127,128,139,153,170,180,181,108,217,232,238,239,242,248,256], inplace=False)\n",
        "clean_table3_male\n"
      ],
      "metadata": {
        "id": "kOteDLgoNthD"
      },
      "execution_count": null,
      "outputs": []
    },
    {
      "cell_type": "code",
      "source": [
        "missing_val = [\"..\"]\n",
        "missing = clean_table3_male.isin(missing_val)\n",
        "clean_table3_male.mask(missing, \"Missing_value\").head(50)"
      ],
      "metadata": {
        "id": "2yUYaXir_7FH"
      },
      "execution_count": null,
      "outputs": []
    },
    {
      "cell_type": "code",
      "source": [
        "#Split the data in different table, start fromn row 3180, tidy_table_1_female = Migrant Stock for female\n",
        "split_male_female = 3180\n",
        "tidy_table_3_female = tidy_table_03.iloc[split_male_female:]\n",
        "tidy_table_3_female\n"
      ],
      "metadata": {
        "id": "uA9U4fKWtp7q"
      },
      "execution_count": null,
      "outputs": []
    },
    {
      "cell_type": "code",
      "source": [
        "tidy_table_3_female.columns=['Order','Name of Country','Notes','Country Code','Type of Data(a)',\"International Migrant Stock as Percentage of Total Population for female\",\"year\",\"Gender\"]\n",
        "tidy_table_3_female = tidy_table_3_female.drop(\"Gender\",axis=1)\n",
        "tidy_table_3_female\n"
      ],
      "metadata": {
        "id": "OY8JMmTYtvwN"
      },
      "execution_count": null,
      "outputs": []
    },
    {
      "cell_type": "code",
      "source": [
        "table3_female = tidy_table_3_female.reset_index().groupby(['Order','Name of Country','Country Code','year'])['International Migrant Stock as Percentage of Total Population for female'].aggregate('first').unstack()"
      ],
      "metadata": {
        "id": "YWpsfR5yt43X"
      },
      "execution_count": null,
      "outputs": []
    },
    {
      "cell_type": "code",
      "source": [
        "table03_Continent_or_region_female = table3_female.loc[[1,2,3,4,5,6,7,8,29,39,47,53,71,72,78,86,98,106,127,128,139,153,170,180,181,108,217,232,238,239,242,248,256], :]\n",
        "table03_Continent_or_region_female"
      ],
      "metadata": {
        "id": "VHf4Q9a46vAF"
      },
      "execution_count": null,
      "outputs": []
    },
    {
      "cell_type": "code",
      "source": [
        "clean_table3_female = table3_female.drop([1,2,3,4,5,6,7,8,29,39,47,53,71,72,78,86,98,106,127,128,139,153,170,180,181,108,217,232,238,239,242,248,256], inplace=False)\n",
        "clean_table3_female\n"
      ],
      "metadata": {
        "id": "v3jripATN0wg"
      },
      "execution_count": null,
      "outputs": []
    },
    {
      "cell_type": "code",
      "source": [
        "missing_val = [\"..\"]\n",
        "missing = clean_table3_female.isin(missing_val)\n",
        "clean_table3_female.mask(missing, \"Missing_value\").head(50)"
      ],
      "metadata": {
        "id": "nTZjn_ffAAC_"
      },
      "execution_count": null,
      "outputs": []
    },
    {
      "cell_type": "markdown",
      "source": [
        "########Table_4##########"
      ],
      "metadata": {
        "id": "tXHdhXmitVNK"
      }
    },
    {
      "cell_type": "code",
      "source": [
        "table_04"
      ],
      "metadata": {
        "id": "cenzXilstZrs"
      },
      "execution_count": null,
      "outputs": []
    },
    {
      "cell_type": "code",
      "source": [
        "table_4_1 = table_04.drop(table_04.index[0:15])\n",
        "table_4_1 #Drop 0-15 rows"
      ],
      "metadata": {
        "id": "liKyB1L_tc3v"
      },
      "execution_count": null,
      "outputs": []
    },
    {
      "cell_type": "code",
      "source": [
        "table_4_1.columns=['Order','Name of Country','Notes','Country Code','Type of Data(a)',\n",
        "                   '1990 Female Migrants Stock Percentage Performance',\n",
        "                   '1995 Female Migrants Stock Percentage Performance',\n",
        "                   '2000 Female Migrants Stock Percentage Performance',\n",
        "                   '2005 Female Migrants Stock Percentage Performance',\n",
        "                   '2010 Female Migrants Stock Percentage Performance',\n",
        "                   '2015 Female Migrants Stock Percentage Performance']"
      ],
      "metadata": {
        "id": "Xtk0u90atj-b"
      },
      "execution_count": null,
      "outputs": []
    },
    {
      "cell_type": "code",
      "source": [
        "tidy_table_04 = table_4_1.melt(id_vars=[\"Order\",\"Name of Country\",\"Notes\",\"Country Code\",\"Type of Data(a)\"],var_name=\"Years\",value_name=\"Female Migrants Stock Percentage Performance\")"
      ],
      "metadata": {
        "id": "eyowhxFGumON"
      },
      "execution_count": null,
      "outputs": []
    },
    {
      "cell_type": "code",
      "source": [
        "tidy_table_04"
      ],
      "metadata": {
        "id": "koZR65gevBvc"
      },
      "execution_count": null,
      "outputs": []
    },
    {
      "cell_type": "code",
      "source": [
        "tidy_table_04=(tidy_table_04.assign(Year = lambda x: x.Years.str[:4].astype(str), Gender = lambda x: x.Years.str[5:11].astype(str)).drop(\"Years\",axis=1))\n",
        "tidy_table_04.sort_values(by ='Order').reset_index().drop(columns = 'index') #Separate the Year cloumns into year, gemder, migrant stock"
      ],
      "metadata": {
        "id": "sxIBE7klu4Z5"
      },
      "execution_count": null,
      "outputs": []
    },
    {
      "cell_type": "code",
      "source": [
        "tidy_table_4_female = tidy_table_04.drop(\"Gender\",axis=1)\n",
        "tidy_table_4_female\n"
      ],
      "metadata": {
        "id": "QYvpJmGPubYi"
      },
      "execution_count": null,
      "outputs": []
    },
    {
      "cell_type": "code",
      "source": [
        "table4_female = tidy_table_4_female.reset_index().groupby(['Order','Name of Country','Country Code','Year'])['Female Migrants Stock Percentage Performance'].aggregate('first').unstack()\n"
      ],
      "metadata": {
        "id": "SLW48kRyvAGv"
      },
      "execution_count": null,
      "outputs": []
    },
    {
      "cell_type": "code",
      "source": [
        "table04_Continent_or_region_female = table4_female.loc[[1,2,3,4,5,6,7,8,29,39,47,53,71,72,78,86,98,127,128,139,153,170,180,181,108,217,232,238,239,242,248,256], :]\n",
        "table04_Continent_or_region_female"
      ],
      "metadata": {
        "id": "Umqhi8LE7G4x"
      },
      "execution_count": null,
      "outputs": []
    },
    {
      "cell_type": "code",
      "source": [
        "clean_table4_female = table4_female.drop([1,2,3,4,5,6,7,8,29,39,47,53,71,72,78,86,98,106,127,128,139,153,170,180,181,108,217,232,238,239,242,248,256], inplace=False)\n",
        "clean_table4_female\n"
      ],
      "metadata": {
        "id": "nwvqdmWxN9KX"
      },
      "execution_count": null,
      "outputs": []
    },
    {
      "cell_type": "code",
      "source": [
        "missing_val = [\"..\"]\n",
        "missing = clean_table4_female.isin(missing_val)\n",
        "clean_table4_female.mask(missing, \"Missing_value\").head(50)"
      ],
      "metadata": {
        "id": "nSxYGBDWAH-E"
      },
      "execution_count": null,
      "outputs": []
    },
    {
      "cell_type": "markdown",
      "source": [
        "###########Table_5############"
      ],
      "metadata": {
        "id": "DzqoYeWOvgUC"
      }
    },
    {
      "cell_type": "code",
      "source": [
        "table_05"
      ],
      "metadata": {
        "id": "BFCNfBJqvjum"
      },
      "execution_count": null,
      "outputs": []
    },
    {
      "cell_type": "code",
      "source": [
        "table_5_1 = table_05.drop(table_05.index[0:15])\n",
        "table_5_1 #Drop 0-15 rows"
      ],
      "metadata": {
        "id": "Y6wA0qvRFJhn"
      },
      "execution_count": null,
      "outputs": []
    },
    {
      "cell_type": "code",
      "source": [
        "table_5_1.columns=['Order','Name of Country','Notes','Country Code','Type of Data(a)','1990-1995 Annual rate of change Both Sex',\n",
        "                  '1995-2000 Annual rate of change Both Sex','2000-2005 Annual rate of change Both Sex',\n",
        "                  '2005-2010 Annual rate of change Both Sex','2010-2015 Annual rate of change Both Sex',\n",
        "                  '1990-1995 Annual rate of change Male','1995-2000 Annual rate of change Male',\n",
        "                  '2000-2005 Annual rate of change Male','2005-2010 Annual rate of change Male',\n",
        "                  '2010-2015 Annual rate of change Male','1990-1995 Annual rate of change Female',\n",
        "                  '1995-2000 Annual rate of change Female','2000-2005 Annual rate of change Female',\n",
        "                  '2005-2010 Annual rate of change Female','2010-2015 Annual rate of change Female']"
      ],
      "metadata": {
        "id": "BS6UCoPdGDj1"
      },
      "execution_count": null,
      "outputs": []
    },
    {
      "cell_type": "code",
      "source": [
        "tidy_table_05 = table_5_1.melt(id_vars=[\"Order\",\"Name of Country\",\"Notes\",\"Country Code\",\"Type of Data(a)\"],var_name=\"Years\",value_name=\"Annual Rate of Change of Migrant Stock\")"
      ],
      "metadata": {
        "id": "kttJEBXYKVWN"
      },
      "execution_count": null,
      "outputs": []
    },
    {
      "cell_type": "code",
      "source": [
        "tidy_table_05=(tidy_table_05.assign(Year_Range = lambda x: x.Years.str[:9].astype(str), Gender = lambda x: x.Years.str[31:].astype(str)).drop(\"Years\",axis=1))\n",
        "tidy_table_05.sort_values(by ='Order').reset_index().drop(columns = 'index') #Separate the Year cloumns into year, gemder, migrant stock"
      ],
      "metadata": {
        "id": "Pk4QJ3ahK5bC"
      },
      "execution_count": null,
      "outputs": []
    },
    {
      "cell_type": "code",
      "source": [
        "#Splite the table with Gender\n",
        "split_point = 1590\n",
        "print(split_point)\n",
        "tidy_table_05_Both_sexes = tidy_table_05.iloc[:split_point]\n",
        "tidy_table_05_Both_sexes"
      ],
      "metadata": {
        "id": "igbCTeeMw1Vq"
      },
      "execution_count": null,
      "outputs": []
    },
    {
      "cell_type": "code",
      "source": [
        "tidy_table_05_Both_sexes.columns=['Order','Name of Country','Notes','Country Code','Type of Data(a)',\"Annual rate of change of Migrant Stock for Both Sex\",\"year\",\"Gender\"]\n",
        "tidy_table_5_Both_sexes = tidy_table_05_Both_sexes.drop(\"Gender\",axis=1)\n",
        "tidy_table_5_Both_sexes\n"
      ],
      "metadata": {
        "id": "covD6NPGw_EE"
      },
      "execution_count": null,
      "outputs": []
    },
    {
      "cell_type": "code",
      "source": [
        "table5_Bothsexes = tidy_table_5_Both_sexes.reset_index().groupby(['Order','Name of Country','Country Code','year'])['Annual rate of change of Migrant Stock for Both Sex'].aggregate('first').unstack()"
      ],
      "metadata": {
        "id": "BJyMPiezxRxu"
      },
      "execution_count": null,
      "outputs": []
    },
    {
      "cell_type": "code",
      "source": [
        "table05_Continent_or_region_BothSexes = table5_Bothsexes.loc[[1,2,3,4,5,6,7,8,29,39,47,53,71,72,78,86,98,127,128,139,153,170,180,181,108,217,232,238,239,242,248,256], :]\n",
        "table05_Continent_or_region_BothSexes"
      ],
      "metadata": {
        "id": "eVAtYSbz7n-D"
      },
      "execution_count": null,
      "outputs": []
    },
    {
      "cell_type": "code",
      "source": [
        "clean_table5_Bothsexes = table5_Bothsexes.drop([1,2,3,4,5,6,7,8,29,39,47,53,71,72,78,86,98,106,127,128,139,153,170,180,181,108,217,232,238,239,242,248,256], inplace=False)\n",
        "clean_table5_Bothsexes\n"
      ],
      "metadata": {
        "id": "QhSorXYVObls"
      },
      "execution_count": null,
      "outputs": []
    },
    {
      "cell_type": "code",
      "source": [
        "missing_val = [\"..\"]\n",
        "missing = clean_table5_Bothsexes.isin(missing_val)\n",
        "clean_table5_Bothsexes.mask(missing, \"Missing_value\").head(50)"
      ],
      "metadata": {
        "id": "s5Vmo_M2AO5U"
      },
      "execution_count": null,
      "outputs": []
    },
    {
      "cell_type": "code",
      "source": [
        "#Splite the table with Gender\n",
        "split_point = 1590\n",
        "split_male_female = 2650\n",
        "tidy_table_05_Male = tidy_table_05.iloc[split_point:split_male_female]\n",
        "tidy_table_05_Male\n"
      ],
      "metadata": {
        "id": "NSJrnUI7xqOZ"
      },
      "execution_count": null,
      "outputs": []
    },
    {
      "cell_type": "code",
      "source": [
        "tidy_table_05_Male.columns=['Order','Name of Country','Notes','Country Code','Type of Data(a)',\"Annual rate of change of Migrant Stock for Male\",\"year\",\"Gender\"]\n",
        "tidy_table_5_Male = tidy_table_05_Male.drop(\"Gender\",axis=1)\n",
        "tidy_table_5_Male"
      ],
      "metadata": {
        "id": "B3F2MsxSx0VM"
      },
      "execution_count": null,
      "outputs": []
    },
    {
      "cell_type": "code",
      "source": [
        "table5_male = tidy_table_5_Male.reset_index().groupby(['Order','Name of Country','Country Code','year'])['Annual rate of change of Migrant Stock for Male'].aggregate('first').unstack()"
      ],
      "metadata": {
        "id": "UcHqAtNtx945"
      },
      "execution_count": null,
      "outputs": []
    },
    {
      "cell_type": "code",
      "source": [
        "table05_Continent_or_region_male = table5_male.loc[[1,2,3,4,5,6,7,8,29,39,47,53,71,72,78,86,98,127,128,139,153,170,180,181,108,217,232,238,239,242,248,256], :]\n",
        "table05_Continent_or_region_male"
      ],
      "metadata": {
        "id": "wS7W-vOg8Fip"
      },
      "execution_count": null,
      "outputs": []
    },
    {
      "cell_type": "code",
      "source": [
        "clean_table5_male = table1_male.drop([1,2,3,4,5,6,7,8,29,39,47,53,71,72,78,86,98,106,127,128,139,153,170,180,181,108,217,232,238,239,242,248,256], inplace=False)\n",
        "clean_table5_male\n"
      ],
      "metadata": {
        "id": "C3OHd7yGOqcI"
      },
      "execution_count": null,
      "outputs": []
    },
    {
      "cell_type": "code",
      "source": [
        "missing_val = [\"..\"]\n",
        "missing = clean_table5_male.isin(missing_val)\n",
        "clean_table5_male.mask(missing, \"Missing_value\").head(50)"
      ],
      "metadata": {
        "id": "B5U5UmcQAb86"
      },
      "execution_count": null,
      "outputs": []
    },
    {
      "cell_type": "code",
      "source": [
        "#Split the data in different table, start fromn row 3180, tidy_table_1_female = Migrant Stock for female\n",
        "split_male_female = 2650\n",
        "tidy_table_5_female = tidy_table_05.iloc[split_male_female:]\n",
        "tidy_table_5_female"
      ],
      "metadata": {
        "id": "9-Ye1J7Byar3"
      },
      "execution_count": null,
      "outputs": []
    },
    {
      "cell_type": "code",
      "source": [
        "tidy_table_5_female.columns=['Order','Name of Country','Notes','Country Code','Type of Data(a)',\"Annual Rate of Change of Migrant Stock\",\"Year_Range\",\"Gender\"]\n",
        "tidy_table_5_female = tidy_table_5_female.drop(\"Gender\",axis=1)\n",
        "tidy_table_5_female"
      ],
      "metadata": {
        "id": "HjoaIrnuyhEm"
      },
      "execution_count": null,
      "outputs": []
    },
    {
      "cell_type": "code",
      "source": [
        "table5_female = tidy_table_5_female.reset_index().groupby(['Order','Name of Country','Country Code','Year_Range'])['Annual Rate of Change of Migrant Stock'].aggregate('first').unstack()\n",
        "table5_female"
      ],
      "metadata": {
        "id": "z9d7JNQ3y6KA"
      },
      "execution_count": null,
      "outputs": []
    },
    {
      "cell_type": "code",
      "source": [
        "table05_Continent_or_region_female = table5_female.loc[[1,2,3,4,5,6,7,8,29,39,47,53,71,72,78,86,98,127,128,139,153,170,180,181,108,217,232,238,239,242,248,256], :]\n",
        "table05_Continent_or_region_female"
      ],
      "metadata": {
        "id": "AZV8JJqW9w3p"
      },
      "execution_count": null,
      "outputs": []
    },
    {
      "cell_type": "code",
      "source": [
        "clean_table5_female = table5_female.drop([1,2,3,4,5,6,7,8,29,39,47,53,71,72,78,86,98,106,127,128,139,153,170,180,181,108,217,232,238,239,242,248,256], inplace=False)\n",
        "clean_table5_female\n"
      ],
      "metadata": {
        "id": "81Fx65xPOxzE"
      },
      "execution_count": null,
      "outputs": []
    },
    {
      "cell_type": "code",
      "source": [
        "missing_val = [\"..\"]\n",
        "missing = clean_table5_female.isin(missing_val)\n",
        "clean_table5_female.mask(missing, \"Missing_value\").head(50)"
      ],
      "metadata": {
        "id": "AN8iPDI7A_bZ"
      },
      "execution_count": null,
      "outputs": []
    },
    {
      "cell_type": "markdown",
      "source": [
        "#########Table_06#########"
      ],
      "metadata": {
        "id": "8FJEryFgNOy7"
      }
    },
    {
      "cell_type": "code",
      "source": [
        "table_06"
      ],
      "metadata": {
        "id": "pac3jRhiNSu_"
      },
      "execution_count": null,
      "outputs": []
    },
    {
      "cell_type": "code",
      "source": [
        "table_6_1 = table_06.drop(table_06.index[0:15])\n",
        "table_6_1 #Drop 0-15 rows"
      ],
      "metadata": {
        "id": "_Nie1a5LNWYG"
      },
      "execution_count": null,
      "outputs": []
    },
    {
      "cell_type": "code",
      "source": [
        "table_6_1.columns=['Order','Name of Country','Notes','Country Code','Type of Data(a)','1990 Estimated refugee stock at mid-year both sexes',\n",
        "                  '1995 Estimated refugee stock at mid-year both sexes','2000 1995 Estimated refugee stock at mid-year both sexes',\n",
        "                  '2005 1995 Estimated refugee stock at mid-year both sexes',\n",
        "                  '2010 1995 Estimated refugee stock at mid-year both sexes','2015 1995 Estimated refugee stock at mid-year both sexes',\n",
        "                  '1990 Refugees as a percentage of the international migrant stock',\n",
        "                  '1995 Refugees as a percentage of the international migrant stock',\n",
        "                  '2000 Refugees as a percentage of the international migrant stock',\n",
        "                  '2005 Refugees as a percentage of the international migrant stock',\n",
        "                  '2010 Refugees as a percentage of the international migrant stock',\n",
        "                  '2015 Refugees as a percentage of the international migrant stock',\n",
        "                  '1990-1995 Annual rate of change of the refugee stock',\n",
        "                  '1995-2000 Annual rate of change of the refugee stocke',\n",
        "                  '2000-2005 Annual rate of change of the refugee stock',\n",
        "                  '2005-2010 Annual rate of change of the refugee stock',\n",
        "                  '2010-2015 Annual rate of change of the refugee stock']"
      ],
      "metadata": {
        "id": "ji1ZX1ACNg5X"
      },
      "execution_count": null,
      "outputs": []
    },
    {
      "cell_type": "code",
      "source": [
        "table_6_1"
      ],
      "metadata": {
        "id": "05hjVQV8PG7y"
      },
      "execution_count": null,
      "outputs": []
    },
    {
      "cell_type": "code",
      "source": [
        "tidy_table_06 = table_6_1.melt(id_vars=[\"Order\",\"Name of Country\",\"Notes\",\"Country Code\",\"Type of Data(a)\"],var_name=\"Years\",value_name=\"Refugee Stocks\")\n",
        "tidy_table_06"
      ],
      "metadata": {
        "id": "v9cxBHxYPe5z"
      },
      "execution_count": null,
      "outputs": []
    },
    {
      "cell_type": "code",
      "source": [
        "tidy_table_06[['Year', 'Annual_Rate_of_Change']] = tidy_table_06['Years'].str.split(' ', 1, expand=True)\n",
        "tidy_table_06.drop(\"Years\",axis=1)"
      ],
      "metadata": {
        "id": "gO0hfxxOiiGw"
      },
      "execution_count": null,
      "outputs": []
    },
    {
      "cell_type": "code",
      "source": [
        "tidy_table_06[\"Gender\"] = tidy_table_06.Annual_Rate_of_Change.apply(lambda x: \"Both Sexes\" if \"both sexes\" in x else \"NaN\")\n",
        "table_06_1 = tidy_table_06.drop(\"Annual_Rate_of_Change\",axis=1)\n",
        "table_06_1_1 = table_06_1.drop(\"Years\",axis=1)"
      ],
      "metadata": {
        "id": "1pxHsX7kk7yx"
      },
      "execution_count": null,
      "outputs": []
    },
    {
      "cell_type": "code",
      "source": [
        "#Split the data in different table, start fromn row 1590, tidy_table_1_Both_sexes = Migrant Stock for Both Sexes\n",
        "split_point = 1590\n",
        "print(split_point)\n",
        "tidy_table_06_Both_sexes = table_06_1_1.iloc[:split_point]\n",
        "tidy_table_06_Both_sexes\n"
      ],
      "metadata": {
        "id": "hgEPfSUa2h7r"
      },
      "execution_count": null,
      "outputs": []
    },
    {
      "cell_type": "code",
      "source": [
        "tidy_table_06_Both_sexes.columns=['Order','Name of Country','Notes','Country Code','Type of Data(a)',\"Estimated refugee stock at mid-year both sexes\",\"year\",\"Gender\"]\n",
        "tidy_table_6_Both_sexes = tidy_table_06_Both_sexes.drop(\"Gender\",axis=1)\n",
        "tidy_table_6_Both_sexes"
      ],
      "metadata": {
        "id": "i4LZin9l4SJF"
      },
      "execution_count": null,
      "outputs": []
    },
    {
      "cell_type": "code",
      "source": [
        "table6_Bothsexes = tidy_table_6_Both_sexes.reset_index().groupby(['Order','Name of Country','Country Code','year'])['Estimated refugee stock at mid-year both sexes'].aggregate('first').unstack()"
      ],
      "metadata": {
        "id": "G6yG6_CV4kO8"
      },
      "execution_count": null,
      "outputs": []
    },
    {
      "cell_type": "code",
      "source": [
        "table06_Continent_or_region_BothSexes = table6_Bothsexes.loc[[1,2,3,4,5,6,7,8,29,39,47,53,71,72,78,86,98,127,128,139,153,170,180,181,108,217,232,238,239,242,248,256], :]\n",
        "table06_Continent_or_region_BothSexes"
      ],
      "metadata": {
        "id": "YFOvW7u3CtE5"
      },
      "execution_count": null,
      "outputs": []
    },
    {
      "cell_type": "code",
      "source": [
        "clean_table6_Bothsexes = table6_Bothsexes.drop([1,2,3,4,5,6,7,8,29,39,47,53,71,72,78,86,98,106,127,128,139,153,170,180,181,108,217,232,238,239,242,248,256], inplace=False)\n",
        "clean_table6_Bothsexes"
      ],
      "metadata": {
        "id": "Ve1JUV82PGwu"
      },
      "execution_count": null,
      "outputs": []
    },
    {
      "cell_type": "code",
      "source": [
        "missing_val = [\"..\"]\n",
        "missing = clean_table6_Bothsexes.isin(missing_val)\n",
        "clean_table6_Bothsexes.mask(missing, \"Missing_value\").head(50)"
      ],
      "metadata": {
        "id": "pnV22aAnAUZI"
      },
      "execution_count": null,
      "outputs": []
    },
    {
      "cell_type": "code",
      "source": [
        "#Split the data in different table, start fromn row 1590, tidy_table_1_male = Migrant Stock for Male\n",
        "split_point = 1590\n",
        "split_male_female = 3180\n",
        "tidy_table_06_Male = table_06_1_1.iloc[split_point:split_male_female]\n",
        "tidy_table_06_Male\n"
      ],
      "metadata": {
        "id": "gSabxZox42S_"
      },
      "execution_count": null,
      "outputs": []
    },
    {
      "cell_type": "code",
      "source": [
        "tidy_table_06_Male.columns=['Order','Name of Country','Notes','Country Code','Type of Data(a)',\"Refugees as a percentage of the international migrant stock\",\"year\",\"Gender\"]\n",
        "tidy_table_6_Male = tidy_table_06_Male.drop(\"Gender\",axis=1)\n",
        "tidy_table_6_Male\n"
      ],
      "metadata": {
        "id": "p-HPCj6348YK"
      },
      "execution_count": null,
      "outputs": []
    },
    {
      "cell_type": "code",
      "source": [
        "table6_male = tidy_table_6_Male.reset_index().groupby(['Order','Name of Country','Country Code','year'])['Refugees as a percentage of the international migrant stock'].aggregate('first').unstack()"
      ],
      "metadata": {
        "id": "nQytZ17N5GCF"
      },
      "execution_count": null,
      "outputs": []
    },
    {
      "cell_type": "code",
      "source": [
        "table06_Continent_or_region_male = table6_male.loc[[1,2,3,4,5,6,7,8,29,39,47,53,71,72,78,86,98,127,128,139,153,170,180,181,108,217,232,238,239,242,248,256], :]\n",
        "table06_Continent_or_region_male"
      ],
      "metadata": {
        "id": "RpK6nsLdC-Ap"
      },
      "execution_count": null,
      "outputs": []
    },
    {
      "cell_type": "code",
      "source": [
        "clean_table6_male = table6_male.drop([1,2,3,4,5,6,7,8,29,39,47,53,71,72,78,86,98,106,127,128,139,153,170,180,181,108,217,232,238,239,242,248,256], inplace=False)\n",
        "clean_table6_male"
      ],
      "metadata": {
        "id": "SVrHjDxvPb6o"
      },
      "execution_count": null,
      "outputs": []
    },
    {
      "cell_type": "code",
      "source": [
        "missing_val = [\"..\"]\n",
        "missing = clean_table6_male.isin(missing_val)\n",
        "clean_table6_male.mask(missing, \"Missing_value\").head(50)"
      ],
      "metadata": {
        "id": "UrXiAuxZAyS9"
      },
      "execution_count": null,
      "outputs": []
    },
    {
      "cell_type": "code",
      "source": [
        "#Split the data in different table, start fromn row 3180, tidy_table_1_female = Migrant Stock for female\n",
        "split_male_female = 3180\n",
        "tidy_table_6_female = table_06_1_1.iloc[split_male_female:]\n",
        "tidy_table_6_female\n"
      ],
      "metadata": {
        "id": "CHzgQ3uP5Xj_"
      },
      "execution_count": null,
      "outputs": []
    },
    {
      "cell_type": "code",
      "source": [
        "tidy_table_6_female.columns=['Order','Name of Country','Notes','Country Code','Type of Data(a)',\"Annual rate of change of the refugee stock\",\"year\",\"Gender\"]\n",
        "tidy_table_6_female = tidy_table_6_female.drop(\"Gender\",axis=1)\n",
        "tidy_table_6_female\n"
      ],
      "metadata": {
        "id": "zl0kSBuR5uTD"
      },
      "execution_count": null,
      "outputs": []
    },
    {
      "cell_type": "code",
      "source": [
        "table6_female = tidy_table_6_female.reset_index().groupby(['Order','Name of Country','Country Code','year'])['Annual rate of change of the refugee stock'].aggregate('first').unstack()\n",
        "table6_female"
      ],
      "metadata": {
        "id": "GEYUf7ZS56t_"
      },
      "execution_count": null,
      "outputs": []
    },
    {
      "cell_type": "code",
      "source": [
        "table06_Continent_or_region_female = table6_female.loc[[1,2,3,4,5,6,7,8,29,39,47,53,71,72,78,86,98,127,128,139,153,170,180,181,108,217,232,238,239,242,248,256], :]\n",
        "table06_Continent_or_region_female"
      ],
      "metadata": {
        "id": "vVPvR5uMDFId"
      },
      "execution_count": null,
      "outputs": []
    },
    {
      "cell_type": "code",
      "source": [
        "clean_table6_female = table6_female.drop([1,2,3,4,5,6,7,8,29,39,47,53,71,72,78,86,98,106,127,128,139,153,170,180,181,108,217,232,238,239,242,248,256], inplace=False)\n",
        "clean_table6_female\n"
      ],
      "metadata": {
        "id": "z2Q8MAzUPkxi"
      },
      "execution_count": null,
      "outputs": []
    },
    {
      "cell_type": "code",
      "source": [
        "missing_val = [\"..\"]\n",
        "missing = clean_table6_female.isin(missing_val)\n",
        "clean_table6_female.mask(missing, \"Missing_value\").head(50)"
      ],
      "metadata": {
        "id": "nzTd9DGLA3o6"
      },
      "execution_count": null,
      "outputs": []
    }
  ]
}
