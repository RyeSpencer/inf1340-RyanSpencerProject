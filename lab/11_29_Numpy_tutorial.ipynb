{
 "cells": [
  {
   "cell_type": "code",
   "execution_count": 12,
   "id": "b94ad93b",
   "metadata": {},
   "outputs": [],
   "source": [
    "import seaborn as sns \n",
    "import pandas as pd \n",
    "from matplotlib import pyplot as plt\n",
    "import numpy as np"
   ]
  },
  {
   "cell_type": "markdown",
   "id": "cbc5f8bd",
   "metadata": {},
   "source": [
    "# Numpy is a useful package you will see frequently. It can run quickly. "
   ]
  },
  {
   "cell_type": "code",
   "execution_count": 52,
   "id": "380d7d65",
   "metadata": {
    "scrolled": false
   },
   "outputs": [
    {
     "data": {
      "text/html": [
       "<div>\n",
       "<style scoped>\n",
       "    .dataframe tbody tr th:only-of-type {\n",
       "        vertical-align: middle;\n",
       "    }\n",
       "\n",
       "    .dataframe tbody tr th {\n",
       "        vertical-align: top;\n",
       "    }\n",
       "\n",
       "    .dataframe thead th {\n",
       "        text-align: right;\n",
       "    }\n",
       "</style>\n",
       "<table border=\"1\" class=\"dataframe\">\n",
       "  <thead>\n",
       "    <tr style=\"text-align: right;\">\n",
       "      <th></th>\n",
       "      <th>survived</th>\n",
       "      <th>pclass</th>\n",
       "      <th>name</th>\n",
       "      <th>sex</th>\n",
       "      <th>age</th>\n",
       "      <th>sibsp</th>\n",
       "      <th>parch</th>\n",
       "      <th>ticket</th>\n",
       "      <th>fare</th>\n",
       "    </tr>\n",
       "  </thead>\n",
       "  <tbody>\n",
       "    <tr>\n",
       "      <th>0</th>\n",
       "      <td>1</td>\n",
       "      <td>1</td>\n",
       "      <td>Allen, Miss. Elisabeth Walton</td>\n",
       "      <td>female</td>\n",
       "      <td>29.0000</td>\n",
       "      <td>0</td>\n",
       "      <td>0</td>\n",
       "      <td>24160</td>\n",
       "      <td>211.3375</td>\n",
       "    </tr>\n",
       "    <tr>\n",
       "      <th>1</th>\n",
       "      <td>1</td>\n",
       "      <td>1</td>\n",
       "      <td>Allison, Master. Hudson Trevor</td>\n",
       "      <td>male</td>\n",
       "      <td>0.9167</td>\n",
       "      <td>1</td>\n",
       "      <td>2</td>\n",
       "      <td>113781</td>\n",
       "      <td>151.5500</td>\n",
       "    </tr>\n",
       "    <tr>\n",
       "      <th>2</th>\n",
       "      <td>0</td>\n",
       "      <td>1</td>\n",
       "      <td>Allison, Miss. Helen Loraine</td>\n",
       "      <td>female</td>\n",
       "      <td>2.0000</td>\n",
       "      <td>1</td>\n",
       "      <td>2</td>\n",
       "      <td>113781</td>\n",
       "      <td>151.5500</td>\n",
       "    </tr>\n",
       "    <tr>\n",
       "      <th>3</th>\n",
       "      <td>0</td>\n",
       "      <td>1</td>\n",
       "      <td>Allison, Mr. Hudson Joshua Creighton</td>\n",
       "      <td>male</td>\n",
       "      <td>30.0000</td>\n",
       "      <td>1</td>\n",
       "      <td>2</td>\n",
       "      <td>113781</td>\n",
       "      <td>151.5500</td>\n",
       "    </tr>\n",
       "    <tr>\n",
       "      <th>4</th>\n",
       "      <td>0</td>\n",
       "      <td>1</td>\n",
       "      <td>Allison, Mrs. Hudson J C (Bessie Waldo Daniels)</td>\n",
       "      <td>female</td>\n",
       "      <td>25.0000</td>\n",
       "      <td>1</td>\n",
       "      <td>2</td>\n",
       "      <td>113781</td>\n",
       "      <td>151.5500</td>\n",
       "    </tr>\n",
       "    <tr>\n",
       "      <th>...</th>\n",
       "      <td>...</td>\n",
       "      <td>...</td>\n",
       "      <td>...</td>\n",
       "      <td>...</td>\n",
       "      <td>...</td>\n",
       "      <td>...</td>\n",
       "      <td>...</td>\n",
       "      <td>...</td>\n",
       "      <td>...</td>\n",
       "    </tr>\n",
       "    <tr>\n",
       "      <th>1304</th>\n",
       "      <td>0</td>\n",
       "      <td>3</td>\n",
       "      <td>Zabour, Miss. Hileni</td>\n",
       "      <td>female</td>\n",
       "      <td>14.5000</td>\n",
       "      <td>1</td>\n",
       "      <td>0</td>\n",
       "      <td>2665</td>\n",
       "      <td>14.4542</td>\n",
       "    </tr>\n",
       "    <tr>\n",
       "      <th>1305</th>\n",
       "      <td>0</td>\n",
       "      <td>3</td>\n",
       "      <td>Zabour, Miss. Thamine</td>\n",
       "      <td>female</td>\n",
       "      <td>0.0000</td>\n",
       "      <td>1</td>\n",
       "      <td>0</td>\n",
       "      <td>2665</td>\n",
       "      <td>14.4542</td>\n",
       "    </tr>\n",
       "    <tr>\n",
       "      <th>1306</th>\n",
       "      <td>0</td>\n",
       "      <td>3</td>\n",
       "      <td>Zakarian, Mr. Mapriededer</td>\n",
       "      <td>male</td>\n",
       "      <td>26.5000</td>\n",
       "      <td>0</td>\n",
       "      <td>0</td>\n",
       "      <td>2656</td>\n",
       "      <td>7.2250</td>\n",
       "    </tr>\n",
       "    <tr>\n",
       "      <th>1307</th>\n",
       "      <td>0</td>\n",
       "      <td>3</td>\n",
       "      <td>Zakarian, Mr. Ortin</td>\n",
       "      <td>male</td>\n",
       "      <td>27.0000</td>\n",
       "      <td>0</td>\n",
       "      <td>0</td>\n",
       "      <td>2670</td>\n",
       "      <td>7.2250</td>\n",
       "    </tr>\n",
       "    <tr>\n",
       "      <th>1308</th>\n",
       "      <td>0</td>\n",
       "      <td>3</td>\n",
       "      <td>Zimmerman, Mr. Leo</td>\n",
       "      <td>male</td>\n",
       "      <td>29.0000</td>\n",
       "      <td>0</td>\n",
       "      <td>0</td>\n",
       "      <td>315082</td>\n",
       "      <td>7.8750</td>\n",
       "    </tr>\n",
       "  </tbody>\n",
       "</table>\n",
       "<p>1309 rows × 9 columns</p>\n",
       "</div>"
      ],
      "text/plain": [
       "      survived  pclass                                             name  \\\n",
       "0            1       1                    Allen, Miss. Elisabeth Walton   \n",
       "1            1       1                   Allison, Master. Hudson Trevor   \n",
       "2            0       1                     Allison, Miss. Helen Loraine   \n",
       "3            0       1             Allison, Mr. Hudson Joshua Creighton   \n",
       "4            0       1  Allison, Mrs. Hudson J C (Bessie Waldo Daniels)   \n",
       "...        ...     ...                                              ...   \n",
       "1304         0       3                             Zabour, Miss. Hileni   \n",
       "1305         0       3                            Zabour, Miss. Thamine   \n",
       "1306         0       3                        Zakarian, Mr. Mapriededer   \n",
       "1307         0       3                              Zakarian, Mr. Ortin   \n",
       "1308         0       3                               Zimmerman, Mr. Leo   \n",
       "\n",
       "         sex      age  sibsp  parch  ticket      fare  \n",
       "0     female  29.0000      0      0   24160  211.3375  \n",
       "1       male   0.9167      1      2  113781  151.5500  \n",
       "2     female   2.0000      1      2  113781  151.5500  \n",
       "3       male  30.0000      1      2  113781  151.5500  \n",
       "4     female  25.0000      1      2  113781  151.5500  \n",
       "...      ...      ...    ...    ...     ...       ...  \n",
       "1304  female  14.5000      1      0    2665   14.4542  \n",
       "1305  female   0.0000      1      0    2665   14.4542  \n",
       "1306    male  26.5000      0      0    2656    7.2250  \n",
       "1307    male  27.0000      0      0    2670    7.2250  \n",
       "1308    male  29.0000      0      0  315082    7.8750  \n",
       "\n",
       "[1309 rows x 9 columns]"
      ]
     },
     "execution_count": 52,
     "metadata": {},
     "output_type": "execute_result"
    }
   ],
   "source": [
    "url = \"https://raw.githubusercontent.com/shionguha/inf1340-programmingfordatascience-fa22/main/data/titanic_dataset.csv\"\n",
    "df = pd.read_csv(url)\n",
    "df"
   ]
  },
  {
   "cell_type": "code",
   "execution_count": 3,
   "id": "d19b5c73",
   "metadata": {
    "scrolled": true
   },
   "outputs": [
    {
     "data": {
      "text/plain": [
       "array([[1, 1, 'Allen, Miss. Elisabeth Walton', ..., 0, '24160', 211.3375],\n",
       "       [1, 1, 'Allison, Master. Hudson Trevor', ..., 2, '113781', 151.55],\n",
       "       [0, 1, 'Allison, Miss. Helen Loraine', ..., 2, '113781', 151.55],\n",
       "       ...,\n",
       "       [0, 3, 'Zakarian, Mr. Mapriededer', ..., 0, '2656', 7.225],\n",
       "       [0, 3, 'Zakarian, Mr. Ortin', ..., 0, '2670', 7.225],\n",
       "       [0, 3, 'Zimmerman, Mr. Leo', ..., 0, '315082', 7.875]],\n",
       "      dtype=object)"
      ]
     },
     "execution_count": 3,
     "metadata": {},
     "output_type": "execute_result"
    }
   ],
   "source": [
    "# Making a DataFrame into a Numpy array is easy: \n",
    "df_np = df.values\n",
    "df_np"
   ]
  },
  {
   "cell_type": "code",
   "execution_count": 54,
   "id": "f83bf4ba",
   "metadata": {},
   "outputs": [
    {
     "data": {
      "text/plain": [
       "array([29.    ,  0.9167,  2.    , ..., 26.5   , 27.    , 29.    ])"
      ]
     },
     "execution_count": 54,
     "metadata": {},
     "output_type": "execute_result"
    }
   ],
   "source": [
    "#you can make a numpy array of a certain column \n",
    "df['age'].values"
   ]
  },
  {
   "cell_type": "code",
   "execution_count": 56,
   "id": "dcfa8ed6",
   "metadata": {
    "scrolled": true
   },
   "outputs": [
    {
     "data": {
      "text/plain": [
       "(1309, 9)"
      ]
     },
     "execution_count": 56,
     "metadata": {},
     "output_type": "execute_result"
    }
   ],
   "source": [
    "#you can find the shape of a numpy array \n",
    "df_np.shape"
   ]
  },
  {
   "cell_type": "markdown",
   "id": "86655913",
   "metadata": {},
   "source": [
    "# Slicing a numpy array "
   ]
  },
  {
   "cell_type": "code",
   "execution_count": 57,
   "id": "8a1b5ed5",
   "metadata": {},
   "outputs": [
    {
     "data": {
      "text/plain": [
       "array([[1, 1, 'Allen, Miss. Elisabeth Walton', ..., 0, '24160', 211.3375],\n",
       "       [1, 1, 'Allison, Master. Hudson Trevor', ..., 2, '113781', 151.55],\n",
       "       [0, 1, 'Allison, Miss. Helen Loraine', ..., 2, '113781', 151.55],\n",
       "       ...,\n",
       "       [0, 3, 'Zakarian, Mr. Mapriededer', ..., 0, '2656', 7.225],\n",
       "       [0, 3, 'Zakarian, Mr. Ortin', ..., 0, '2670', 7.225],\n",
       "       [0, 3, 'Zimmerman, Mr. Leo', ..., 0, '315082', 7.875]],\n",
       "      dtype=object)"
      ]
     },
     "execution_count": 57,
     "metadata": {},
     "output_type": "execute_result"
    }
   ],
   "source": [
    "df_np"
   ]
  },
  {
   "cell_type": "code",
   "execution_count": 8,
   "id": "d0cfb3c9",
   "metadata": {
    "scrolled": true
   },
   "outputs": [
    {
     "data": {
      "text/plain": [
       "array([29.0, 0.9167, 2.0, ..., 26.5, 27.0, 29.0], dtype=object)"
      ]
     },
     "execution_count": 8,
     "metadata": {},
     "output_type": "execute_result"
    }
   ],
   "source": [
    "# Getting the 5th column:\n",
    "df_np[:,4] #after the comma, you get the columns"
   ]
  },
  {
   "cell_type": "code",
   "execution_count": 9,
   "id": "6a3610f5",
   "metadata": {},
   "outputs": [
    {
     "data": {
      "text/plain": [
       "array([1, 1, 'Allen, Miss. Elisabeth Walton', 'female', 29.0, 0, 0,\n",
       "       '24160', 211.3375], dtype=object)"
      ]
     },
     "execution_count": 9,
     "metadata": {},
     "output_type": "execute_result"
    }
   ],
   "source": [
    "# Getting the first row: \n",
    "df_np[0,:] "
   ]
  },
  {
   "cell_type": "markdown",
   "id": "93687c7d",
   "metadata": {},
   "source": [
    "This slicing is similar to loc "
   ]
  },
  {
   "cell_type": "code",
   "execution_count": 10,
   "id": "2b1cfeff",
   "metadata": {
    "scrolled": true
   },
   "outputs": [
    {
     "data": {
      "text/plain": [
       "array([0, 1, 1], dtype=object)"
      ]
     },
     "execution_count": 10,
     "metadata": {},
     "output_type": "execute_result"
    }
   ],
   "source": [
    "# Select the 6th column from the first three rows\n",
    "df_np[0:3,5]"
   ]
  },
  {
   "cell_type": "code",
   "execution_count": 49,
   "id": "83d34522",
   "metadata": {},
   "outputs": [
    {
     "data": {
      "text/plain": [
       "array([[0, 3, 'Zimmerman, Mr. Leo', ..., 0, '315082', 7.875],\n",
       "       [0, 3, 'Zakarian, Mr. Ortin', ..., 0, '2670', 7.225],\n",
       "       [0, 3, 'Zakarian, Mr. Mapriededer', ..., 0, '2656', 7.225],\n",
       "       ...,\n",
       "       [0, 1, 'Allison, Miss. Helen Loraine', ..., 2, '113781', 151.55],\n",
       "       [1, 1, 'Allison, Master. Hudson Trevor', ..., 2, '113781', 151.55],\n",
       "       [1, 1, 'Allen, Miss. Elisabeth Walton', ..., 0, '24160', 211.3375]],\n",
       "      dtype=object)"
      ]
     },
     "execution_count": 49,
     "metadata": {},
     "output_type": "execute_result"
    }
   ],
   "source": [
    "df_np[::-1] #get the rows from the bottom up "
   ]
  },
  {
   "cell_type": "markdown",
   "id": "74e7f510",
   "metadata": {},
   "source": [
    "# Other useful things Numpy can do..."
   ]
  },
  {
   "cell_type": "code",
   "execution_count": 22,
   "id": "1b35bcb8",
   "metadata": {},
   "outputs": [
    {
     "name": "stdout",
     "output_type": "stream",
     "text": [
      "[ 0  1  2  3  4  5  6  7  8  9 10]\n"
     ]
    }
   ],
   "source": [
    "x = np.arange(11)\n",
    "print(x)"
   ]
  },
  {
   "cell_type": "code",
   "execution_count": 61,
   "id": "06877ff5",
   "metadata": {
    "scrolled": true
   },
   "outputs": [
    {
     "data": {
      "text/plain": [
       "array([0, 2, 4, 6, 8])"
      ]
     },
     "execution_count": 61,
     "metadata": {},
     "output_type": "execute_result"
    }
   ],
   "source": [
    "np.arange(0,10,2) #start, stop, step "
   ]
  },
  {
   "cell_type": "code",
   "execution_count": 48,
   "id": "c24acb49",
   "metadata": {
    "scrolled": true
   },
   "outputs": [
    {
     "name": "stdout",
     "output_type": "stream",
     "text": [
      "[ 2  3  4  5  6  7  8  9 10]\n"
     ]
    },
    {
     "data": {
      "text/plain": [
       "array([[ 2,  3,  4],\n",
       "       [ 5,  6,  7],\n",
       "       [ 8,  9, 10]])"
      ]
     },
     "execution_count": 48,
     "metadata": {},
     "output_type": "execute_result"
    }
   ],
   "source": [
    "a = np.arange(2,11)\n",
    "print(a)\n",
    "\n",
    "a.reshape(3,3)"
   ]
  },
  {
   "cell_type": "code",
   "execution_count": 64,
   "id": "e49ff6bf",
   "metadata": {},
   "outputs": [
    {
     "data": {
      "text/plain": [
       "array([ 0,  1,  2,  3,  4,  5,  6,  7,  8,  9, 10])"
      ]
     },
     "execution_count": 64,
     "metadata": {},
     "output_type": "execute_result"
    }
   ],
   "source": [
    "x= np.arange(11)\n",
    "x"
   ]
  },
  {
   "cell_type": "code",
   "execution_count": 65,
   "id": "4be3bd82",
   "metadata": {
    "scrolled": false
   },
   "outputs": [
    {
     "name": "stdout",
     "output_type": "stream",
     "text": [
      "[ 8  3  2  0  5  9  4 10  7  6  1]\n"
     ]
    }
   ],
   "source": [
    "np.random.shuffle(x)\n",
    "print(x)"
   ]
  },
  {
   "cell_type": "code",
   "execution_count": 26,
   "id": "d774d645",
   "metadata": {},
   "outputs": [
    {
     "data": {
      "text/plain": [
       "array([ 2,  8,  7, 10,  3,  0,  9,  5,  4,  6,  1])"
      ]
     },
     "execution_count": 26,
     "metadata": {},
     "output_type": "execute_result"
    }
   ],
   "source": [
    "np.random.permutation(11) #Randomly permute a sequence"
   ]
  },
  {
   "cell_type": "code",
   "execution_count": 47,
   "id": "bb0a545f",
   "metadata": {},
   "outputs": [
    {
     "data": {
      "text/plain": [
       "array([0., 0., 0., 0., 0., 0., 0., 0., 0., 0.])"
      ]
     },
     "execution_count": 47,
     "metadata": {},
     "output_type": "execute_result"
    }
   ],
   "source": [
    "a = np.zeros(10)\n",
    "a"
   ]
  },
  {
   "cell_type": "code",
   "execution_count": null,
   "id": "b59cadc1",
   "metadata": {},
   "outputs": [],
   "source": []
  },
  {
   "cell_type": "code",
   "execution_count": 28,
   "id": "925c1919",
   "metadata": {
    "scrolled": true
   },
   "outputs": [
    {
     "data": {
      "text/plain": [
       "array([-0.37999084,  0.21094867,  0.35470304,  0.32875305,  0.56158393])"
      ]
     },
     "execution_count": 28,
     "metadata": {},
     "output_type": "execute_result"
    }
   ],
   "source": [
    "#some useful functionalities from numpy (may not be too useful for this class)\n",
    "np.random.normal(size=5) #generate five random numbers from the normal distribution #by default the mean is 0"
   ]
  },
  {
   "cell_type": "code",
   "execution_count": 66,
   "id": "84f66822",
   "metadata": {},
   "outputs": [
    {
     "data": {
      "text/plain": [
       "0.0005261894579218798"
      ]
     },
     "execution_count": 66,
     "metadata": {},
     "output_type": "execute_result"
    }
   ],
   "source": [
    "#we see in line that mean converges to 0 (setting by default)\n",
    "np.mean(np.random.normal(size=10000000))"
   ]
  },
  {
   "cell_type": "code",
   "execution_count": 68,
   "id": "bf4a8494",
   "metadata": {
    "scrolled": true
   },
   "outputs": [
    {
     "name": "stdout",
     "output_type": "stream",
     "text": [
      "original array\n",
      "[[-1.29457156e+00  3.56531377e-01 -9.22600614e-01  4.23404587e-01]\n",
      " [-1.02622311e-01 -2.01677835e-01 -4.78032295e-01  1.77745502e+00]\n",
      " [-1.28955554e+00  1.09797174e-01  2.39817957e-01 -6.17548496e-01]\n",
      " [ 8.23072600e-01 -9.73035095e-01  1.05118931e+00  2.36965774e+00]\n",
      " [ 6.70062292e-02 -9.20375280e-01  1.65227243e+00 -3.61509592e-01]\n",
      " [ 3.97692615e-01  1.32078787e+00 -9.30808143e-01  4.47319689e-01]\n",
      " [-5.69752938e-01 -3.52238216e-01 -9.80201698e-02  2.12631446e-04]\n",
      " [ 3.61420867e-01 -1.99276785e+00 -8.61558479e-01 -3.97585976e-01]\n",
      " [ 3.99017506e-01  8.88714638e-01  1.84017783e+00  7.25371734e-01]\n",
      " [ 4.86179747e-01 -1.40377849e+00  2.69952746e-02  1.12246697e+00]]\n",
      "\n",
      " First 4 rows of the above array:\n",
      "[[-1.29457156  0.35653138 -0.92260061  0.42340459]\n",
      " [-0.10262231 -0.20167784 -0.4780323   1.77745502]\n",
      " [-1.28955554  0.10979717  0.23981796 -0.6175485 ]\n",
      " [ 0.8230726  -0.9730351   1.05118931  2.36965774]]\n"
     ]
    }
   ],
   "source": [
    "x = np.random.normal(size=(10,4))\n",
    "print('original array')\n",
    "print(x)\n",
    "\n",
    "y= x[:4, :]\n",
    "print(\"\\n First 4 rows of the above array:\")\n",
    "print(y)"
   ]
  },
  {
   "cell_type": "code",
   "execution_count": 41,
   "id": "d7142f6c",
   "metadata": {},
   "outputs": [
    {
     "name": "stdout",
     "output_type": "stream",
     "text": [
      "the original array:\n",
      "[[1990 2000]\n",
      " [  30  200]]\n",
      "Sorting the array along the first axis:\n",
      "[[  30  200]\n",
      " [1990 2000]]\n",
      "Sorting the array along the last axis:\n",
      "[[1990 2000]\n",
      " [  30  200]]\n"
     ]
    }
   ],
   "source": [
    "new_arr = np.array([[1990,2000],[30,200]])\n",
    "print(\"the original array:\")\n",
    "print(new_arr)\n",
    "\n",
    "print(\"Sorting the array along the first axis:\") #think vertical \n",
    "print(np.sort(new_arr, axis=0))\n",
    "\n",
    "print(\"Sorting the array along the last axis:\") #think horizontal \n",
    "print(np.sort(new_arr))\n"
   ]
  },
  {
   "cell_type": "code",
   "execution_count": 42,
   "id": "3ea9532c",
   "metadata": {},
   "outputs": [
    {
     "name": "stdout",
     "output_type": "stream",
     "text": [
      "Original array:\n",
      "[[10 40]\n",
      " [30 20]]\n",
      "Sort the array along the first axis:\n",
      "[[10 20]\n",
      " [30 40]]\n",
      "Sort the array along the last axis:\n",
      "[[10 40]\n",
      " [20 30]]\n",
      "Sort the flattened array:\n",
      "[10 20 30 40]\n"
     ]
    }
   ],
   "source": [
    "a = np.array([[10,40],[30,20]])\n",
    "print(\"Original array:\")\n",
    "print(a)\n",
    "\n",
    "print(\"Sort the array along the first axis:\")\n",
    "print(np.sort(a, axis=0))\n",
    "\n",
    "print(\"Sort the array along the last axis:\")\n",
    "print(np.sort(a))\n",
    "\n",
    "print(\"Sort the flattened array:\")\n",
    "print(np.sort(a, axis=None))"
   ]
  },
  {
   "cell_type": "markdown",
   "id": "9f4a7e6b",
   "metadata": {},
   "source": [
    "# Some Math with numpy "
   ]
  },
  {
   "cell_type": "code",
   "execution_count": 69,
   "id": "f079c013",
   "metadata": {},
   "outputs": [
    {
     "data": {
      "text/plain": [
       "array([ 1,  4,  5,  6, 11, 14])"
      ]
     },
     "execution_count": 69,
     "metadata": {},
     "output_type": "execute_result"
    }
   ],
   "source": [
    "vector_arr = np.array([1,4,5,6,11,14])\n",
    "vector_arr"
   ]
  },
  {
   "cell_type": "code",
   "execution_count": 70,
   "id": "58372f17",
   "metadata": {},
   "outputs": [
    {
     "data": {
      "text/plain": [
       "41"
      ]
     },
     "execution_count": 70,
     "metadata": {},
     "output_type": "execute_result"
    }
   ],
   "source": [
    "#get the sum of the elements in the array \n",
    "vector_arr.sum()"
   ]
  },
  {
   "cell_type": "code",
   "execution_count": 31,
   "id": "ce445ecb",
   "metadata": {},
   "outputs": [
    {
     "data": {
      "text/plain": [
       "6.833333333333333"
      ]
     },
     "execution_count": 31,
     "metadata": {},
     "output_type": "execute_result"
    }
   ],
   "source": [
    "vector_arr.mean()"
   ]
  },
  {
   "cell_type": "code",
   "execution_count": 32,
   "id": "8cea3752",
   "metadata": {
    "scrolled": true
   },
   "outputs": [
    {
     "data": {
      "text/plain": [
       "4.374801582802229"
      ]
     },
     "execution_count": 32,
     "metadata": {},
     "output_type": "execute_result"
    }
   ],
   "source": [
    "vector_arr.std()"
   ]
  },
  {
   "cell_type": "code",
   "execution_count": 36,
   "id": "818c9dc1",
   "metadata": {},
   "outputs": [
    {
     "data": {
      "text/plain": [
       "5.5"
      ]
     },
     "execution_count": 36,
     "metadata": {},
     "output_type": "execute_result"
    }
   ],
   "source": [
    "np.median(vector_arr)"
   ]
  },
  {
   "cell_type": "code",
   "execution_count": 15,
   "id": "00dcb99d",
   "metadata": {},
   "outputs": [
    {
     "data": {
      "text/plain": [
       "array([-3,  0,  1,  2,  7, 10])"
      ]
     },
     "execution_count": 15,
     "metadata": {},
     "output_type": "execute_result"
    }
   ],
   "source": [
    "vector_arr - 4"
   ]
  },
  {
   "cell_type": "code",
   "execution_count": 71,
   "id": "fa78c56b",
   "metadata": {},
   "outputs": [
    {
     "data": {
      "text/plain": [
       "array([0.        , 1.38629436, 1.60943791, 1.79175947, 2.39789527,\n",
       "       2.63905733])"
      ]
     },
     "execution_count": 71,
     "metadata": {},
     "output_type": "execute_result"
    }
   ],
   "source": [
    "# get the natural log of the elements in the vector \n",
    "np.log(vector_arr)"
   ]
  },
  {
   "cell_type": "code",
   "execution_count": 17,
   "id": "3458956b",
   "metadata": {
    "scrolled": false
   },
   "outputs": [
    {
     "name": "stderr",
     "output_type": "stream",
     "text": [
      "/opt/conda/lib/python3.8/site-packages/pandas/core/arraylike.py:397: RuntimeWarning: divide by zero encountered in log\n",
      "  result = getattr(ufunc, method)(*inputs, **kwargs)\n"
     ]
    },
    {
     "data": {
      "text/html": [
       "<div>\n",
       "<style scoped>\n",
       "    .dataframe tbody tr th:only-of-type {\n",
       "        vertical-align: middle;\n",
       "    }\n",
       "\n",
       "    .dataframe tbody tr th {\n",
       "        vertical-align: top;\n",
       "    }\n",
       "\n",
       "    .dataframe thead th {\n",
       "        text-align: right;\n",
       "    }\n",
       "</style>\n",
       "<table border=\"1\" class=\"dataframe\">\n",
       "  <thead>\n",
       "    <tr style=\"text-align: right;\">\n",
       "      <th></th>\n",
       "      <th>survived</th>\n",
       "      <th>pclass</th>\n",
       "      <th>name</th>\n",
       "      <th>sex</th>\n",
       "      <th>age</th>\n",
       "      <th>sibsp</th>\n",
       "      <th>parch</th>\n",
       "      <th>ticket</th>\n",
       "      <th>fare</th>\n",
       "    </tr>\n",
       "  </thead>\n",
       "  <tbody>\n",
       "    <tr>\n",
       "      <th>0</th>\n",
       "      <td>1</td>\n",
       "      <td>1</td>\n",
       "      <td>Allen, Miss. Elisabeth Walton</td>\n",
       "      <td>female</td>\n",
       "      <td>3.367296</td>\n",
       "      <td>0</td>\n",
       "      <td>0</td>\n",
       "      <td>24160</td>\n",
       "      <td>211.3375</td>\n",
       "    </tr>\n",
       "    <tr>\n",
       "      <th>1</th>\n",
       "      <td>1</td>\n",
       "      <td>1</td>\n",
       "      <td>Allison, Master. Hudson Trevor</td>\n",
       "      <td>male</td>\n",
       "      <td>-0.086975</td>\n",
       "      <td>1</td>\n",
       "      <td>2</td>\n",
       "      <td>113781</td>\n",
       "      <td>151.5500</td>\n",
       "    </tr>\n",
       "    <tr>\n",
       "      <th>2</th>\n",
       "      <td>0</td>\n",
       "      <td>1</td>\n",
       "      <td>Allison, Miss. Helen Loraine</td>\n",
       "      <td>female</td>\n",
       "      <td>0.693147</td>\n",
       "      <td>1</td>\n",
       "      <td>2</td>\n",
       "      <td>113781</td>\n",
       "      <td>151.5500</td>\n",
       "    </tr>\n",
       "    <tr>\n",
       "      <th>3</th>\n",
       "      <td>0</td>\n",
       "      <td>1</td>\n",
       "      <td>Allison, Mr. Hudson Joshua Creighton</td>\n",
       "      <td>male</td>\n",
       "      <td>3.401197</td>\n",
       "      <td>1</td>\n",
       "      <td>2</td>\n",
       "      <td>113781</td>\n",
       "      <td>151.5500</td>\n",
       "    </tr>\n",
       "    <tr>\n",
       "      <th>4</th>\n",
       "      <td>0</td>\n",
       "      <td>1</td>\n",
       "      <td>Allison, Mrs. Hudson J C (Bessie Waldo Daniels)</td>\n",
       "      <td>female</td>\n",
       "      <td>3.218876</td>\n",
       "      <td>1</td>\n",
       "      <td>2</td>\n",
       "      <td>113781</td>\n",
       "      <td>151.5500</td>\n",
       "    </tr>\n",
       "    <tr>\n",
       "      <th>...</th>\n",
       "      <td>...</td>\n",
       "      <td>...</td>\n",
       "      <td>...</td>\n",
       "      <td>...</td>\n",
       "      <td>...</td>\n",
       "      <td>...</td>\n",
       "      <td>...</td>\n",
       "      <td>...</td>\n",
       "      <td>...</td>\n",
       "    </tr>\n",
       "    <tr>\n",
       "      <th>1304</th>\n",
       "      <td>0</td>\n",
       "      <td>3</td>\n",
       "      <td>Zabour, Miss. Hileni</td>\n",
       "      <td>female</td>\n",
       "      <td>2.674149</td>\n",
       "      <td>1</td>\n",
       "      <td>0</td>\n",
       "      <td>2665</td>\n",
       "      <td>14.4542</td>\n",
       "    </tr>\n",
       "    <tr>\n",
       "      <th>1305</th>\n",
       "      <td>0</td>\n",
       "      <td>3</td>\n",
       "      <td>Zabour, Miss. Thamine</td>\n",
       "      <td>female</td>\n",
       "      <td>-inf</td>\n",
       "      <td>1</td>\n",
       "      <td>0</td>\n",
       "      <td>2665</td>\n",
       "      <td>14.4542</td>\n",
       "    </tr>\n",
       "    <tr>\n",
       "      <th>1306</th>\n",
       "      <td>0</td>\n",
       "      <td>3</td>\n",
       "      <td>Zakarian, Mr. Mapriededer</td>\n",
       "      <td>male</td>\n",
       "      <td>3.277145</td>\n",
       "      <td>0</td>\n",
       "      <td>0</td>\n",
       "      <td>2656</td>\n",
       "      <td>7.2250</td>\n",
       "    </tr>\n",
       "    <tr>\n",
       "      <th>1307</th>\n",
       "      <td>0</td>\n",
       "      <td>3</td>\n",
       "      <td>Zakarian, Mr. Ortin</td>\n",
       "      <td>male</td>\n",
       "      <td>3.295837</td>\n",
       "      <td>0</td>\n",
       "      <td>0</td>\n",
       "      <td>2670</td>\n",
       "      <td>7.2250</td>\n",
       "    </tr>\n",
       "    <tr>\n",
       "      <th>1308</th>\n",
       "      <td>0</td>\n",
       "      <td>3</td>\n",
       "      <td>Zimmerman, Mr. Leo</td>\n",
       "      <td>male</td>\n",
       "      <td>3.367296</td>\n",
       "      <td>0</td>\n",
       "      <td>0</td>\n",
       "      <td>315082</td>\n",
       "      <td>7.8750</td>\n",
       "    </tr>\n",
       "  </tbody>\n",
       "</table>\n",
       "<p>1309 rows × 9 columns</p>\n",
       "</div>"
      ],
      "text/plain": [
       "      survived  pclass                                             name  \\\n",
       "0            1       1                    Allen, Miss. Elisabeth Walton   \n",
       "1            1       1                   Allison, Master. Hudson Trevor   \n",
       "2            0       1                     Allison, Miss. Helen Loraine   \n",
       "3            0       1             Allison, Mr. Hudson Joshua Creighton   \n",
       "4            0       1  Allison, Mrs. Hudson J C (Bessie Waldo Daniels)   \n",
       "...        ...     ...                                              ...   \n",
       "1304         0       3                             Zabour, Miss. Hileni   \n",
       "1305         0       3                            Zabour, Miss. Thamine   \n",
       "1306         0       3                        Zakarian, Mr. Mapriededer   \n",
       "1307         0       3                              Zakarian, Mr. Ortin   \n",
       "1308         0       3                               Zimmerman, Mr. Leo   \n",
       "\n",
       "         sex       age  sibsp  parch  ticket      fare  \n",
       "0     female  3.367296      0      0   24160  211.3375  \n",
       "1       male -0.086975      1      2  113781  151.5500  \n",
       "2     female  0.693147      1      2  113781  151.5500  \n",
       "3       male  3.401197      1      2  113781  151.5500  \n",
       "4     female  3.218876      1      2  113781  151.5500  \n",
       "...      ...       ...    ...    ...     ...       ...  \n",
       "1304  female  2.674149      1      0    2665   14.4542  \n",
       "1305  female      -inf      1      0    2665   14.4542  \n",
       "1306    male  3.277145      0      0    2656    7.2250  \n",
       "1307    male  3.295837      0      0    2670    7.2250  \n",
       "1308    male  3.367296      0      0  315082    7.8750  \n",
       "\n",
       "[1309 rows x 9 columns]"
      ]
     },
     "execution_count": 17,
     "metadata": {},
     "output_type": "execute_result"
    }
   ],
   "source": [
    "# Numpy and Pandas works well together\n",
    "df['age'] = np.log(df['age'])\n",
    "df"
   ]
  },
  {
   "cell_type": "code",
   "execution_count": 51,
   "id": "562f0701",
   "metadata": {},
   "outputs": [
    {
     "data": {
      "text/plain": [
       "array([ 1,  4,  7, 11, 15, 18])"
      ]
     },
     "execution_count": 51,
     "metadata": {},
     "output_type": "execute_result"
    }
   ],
   "source": [
    "a = np.array([0,1,2,4,6,8])\n",
    "b = np.array([1,3,5,7,9,10])\n",
    "\n",
    "a+b"
   ]
  },
  {
   "cell_type": "markdown",
   "id": "1266f409",
   "metadata": {},
   "source": [
    "# Numpy can be multi dimensional "
   ]
  },
  {
   "cell_type": "code",
   "execution_count": 19,
   "id": "8e96ff4b",
   "metadata": {},
   "outputs": [
    {
     "data": {
      "text/plain": [
       "(2, 2, 3)"
      ]
     },
     "execution_count": 19,
     "metadata": {},
     "output_type": "execute_result"
    }
   ],
   "source": [
    "array_3d = np.array([\n",
    "    [\n",
    "        [4,1,2],\n",
    "        [4,2,3]\n",
    "    ],\n",
    "    [\n",
    "        [2,4,6],\n",
    "        [1,8,7]\n",
    "    ],\n",
    "])\n",
    "array_3d.shape"
   ]
  },
  {
   "cell_type": "code",
   "execution_count": 72,
   "id": "8a98f3d4",
   "metadata": {},
   "outputs": [
    {
     "data": {
      "text/plain": [
       "2"
      ]
     },
     "execution_count": 72,
     "metadata": {},
     "output_type": "execute_result"
    }
   ],
   "source": [
    "#slicing works similarly what would be the value of this? \n",
    "array_3d[0,0,2]"
   ]
  }
 ],
 "metadata": {
  "kernelspec": {
   "display_name": "Python 3 (ipykernel)",
   "language": "python",
   "name": "python3"
  },
  "language_info": {
   "codemirror_mode": {
    "name": "ipython",
    "version": 3
   },
   "file_extension": ".py",
   "mimetype": "text/x-python",
   "name": "python",
   "nbconvert_exporter": "python",
   "pygments_lexer": "ipython3",
   "version": "3.8.13"
  }
 },
 "nbformat": 4,
 "nbformat_minor": 5
}
